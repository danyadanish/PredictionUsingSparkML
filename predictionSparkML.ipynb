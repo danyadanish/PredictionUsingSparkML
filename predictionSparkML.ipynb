{
  "nbformat": 4,
  "nbformat_minor": 0,
  "metadata": {
    "colab": {
      "provenance": [],
      "gpuType": "T4",
      "toc_visible": true,
      "include_colab_link": true
    },
    "kernelspec": {
      "name": "python3",
      "display_name": "Python 3"
    },
    "language_info": {
      "name": "python"
    },
    "accelerator": "GPU"
  },
  "cells": [
    {
      "cell_type": "markdown",
      "metadata": {
        "id": "view-in-github",
        "colab_type": "text"
      },
      "source": [
        "<a href=\"https://colab.research.google.com/github/danyadanish/PredictionUsingSparkML/blob/main/predictionSparkML.ipynb\" target=\"_parent\"><img src=\"https://colab.research.google.com/assets/colab-badge.svg\" alt=\"Open In Colab\"/></a>"
      ]
    },
    {
      "cell_type": "markdown",
      "source": [
        "# Imports\n",
        "\n"
      ],
      "metadata": {
        "id": "yaSwgx5QNU4m"
      }
    },
    {
      "cell_type": "code",
      "execution_count": null,
      "metadata": {
        "colab": {
          "base_uri": "https://localhost:8080/"
        },
        "id": "6E9bP0vKUNhU",
        "outputId": "2f5172de-99cf-4748-f95b-2287f51d3d12"
      },
      "outputs": [
        {
          "output_type": "stream",
          "name": "stdout",
          "text": [
            "Reading package lists... Done\n",
            "Building dependency tree... Done\n",
            "Reading state information... Done\n",
            "The following additional packages will be installed:\n",
            "  fonts-dejavu-core fonts-dejavu-extra libatk-wrapper-java\n",
            "  libatk-wrapper-java-jni libxt-dev libxtst6 libxxf86dga1 openjdk-11-jre\n",
            "  x11-utils\n",
            "Suggested packages:\n",
            "  libxt-doc openjdk-11-demo openjdk-11-source visualvm mesa-utils\n",
            "The following NEW packages will be installed:\n",
            "  fonts-dejavu-core fonts-dejavu-extra libatk-wrapper-java\n",
            "  libatk-wrapper-java-jni libxt-dev libxtst6 libxxf86dga1 openjdk-11-jdk\n",
            "  openjdk-11-jre x11-utils\n",
            "0 upgraded, 10 newly installed, 0 to remove and 34 not upgraded.\n",
            "Need to get 6,920 kB of archives.\n",
            "After this operation, 16.9 MB of additional disk space will be used.\n",
            "Get:1 http://archive.ubuntu.com/ubuntu jammy/main amd64 fonts-dejavu-core all 2.37-2build1 [1,041 kB]\n",
            "Get:2 http://archive.ubuntu.com/ubuntu jammy/main amd64 fonts-dejavu-extra all 2.37-2build1 [2,041 kB]\n",
            "Get:3 http://archive.ubuntu.com/ubuntu jammy/main amd64 libxtst6 amd64 2:1.2.3-1build4 [13.4 kB]\n",
            "Get:4 http://archive.ubuntu.com/ubuntu jammy/main amd64 libxxf86dga1 amd64 2:1.1.5-0ubuntu3 [12.6 kB]\n",
            "Get:5 http://archive.ubuntu.com/ubuntu jammy/main amd64 x11-utils amd64 7.7+5build2 [206 kB]\n",
            "Get:6 http://archive.ubuntu.com/ubuntu jammy/main amd64 libatk-wrapper-java all 0.38.0-5build1 [53.1 kB]\n",
            "Get:7 http://archive.ubuntu.com/ubuntu jammy/main amd64 libatk-wrapper-java-jni amd64 0.38.0-5build1 [49.0 kB]\n",
            "Get:8 http://archive.ubuntu.com/ubuntu jammy/main amd64 libxt-dev amd64 1:1.2.1-1 [396 kB]\n",
            "Get:9 http://archive.ubuntu.com/ubuntu jammy-updates/main amd64 openjdk-11-jre amd64 11.0.27+6~us1-0ubuntu1~22.04 [214 kB]\n",
            "Get:10 http://archive.ubuntu.com/ubuntu jammy-updates/main amd64 openjdk-11-jdk amd64 11.0.27+6~us1-0ubuntu1~22.04 [2,895 kB]\n",
            "Fetched 6,920 kB in 1s (7,397 kB/s)\n",
            "Selecting previously unselected package fonts-dejavu-core.\n",
            "(Reading database ... 126102 files and directories currently installed.)\n",
            "Preparing to unpack .../0-fonts-dejavu-core_2.37-2build1_all.deb ...\n",
            "Unpacking fonts-dejavu-core (2.37-2build1) ...\n",
            "Selecting previously unselected package fonts-dejavu-extra.\n",
            "Preparing to unpack .../1-fonts-dejavu-extra_2.37-2build1_all.deb ...\n",
            "Unpacking fonts-dejavu-extra (2.37-2build1) ...\n",
            "Selecting previously unselected package libxtst6:amd64.\n",
            "Preparing to unpack .../2-libxtst6_2%3a1.2.3-1build4_amd64.deb ...\n",
            "Unpacking libxtst6:amd64 (2:1.2.3-1build4) ...\n",
            "Selecting previously unselected package libxxf86dga1:amd64.\n",
            "Preparing to unpack .../3-libxxf86dga1_2%3a1.1.5-0ubuntu3_amd64.deb ...\n",
            "Unpacking libxxf86dga1:amd64 (2:1.1.5-0ubuntu3) ...\n",
            "Selecting previously unselected package x11-utils.\n",
            "Preparing to unpack .../4-x11-utils_7.7+5build2_amd64.deb ...\n",
            "Unpacking x11-utils (7.7+5build2) ...\n",
            "Selecting previously unselected package libatk-wrapper-java.\n",
            "Preparing to unpack .../5-libatk-wrapper-java_0.38.0-5build1_all.deb ...\n",
            "Unpacking libatk-wrapper-java (0.38.0-5build1) ...\n",
            "Selecting previously unselected package libatk-wrapper-java-jni:amd64.\n",
            "Preparing to unpack .../6-libatk-wrapper-java-jni_0.38.0-5build1_amd64.deb ...\n",
            "Unpacking libatk-wrapper-java-jni:amd64 (0.38.0-5build1) ...\n",
            "Selecting previously unselected package libxt-dev:amd64.\n",
            "Preparing to unpack .../7-libxt-dev_1%3a1.2.1-1_amd64.deb ...\n",
            "Unpacking libxt-dev:amd64 (1:1.2.1-1) ...\n",
            "Selecting previously unselected package openjdk-11-jre:amd64.\n",
            "Preparing to unpack .../8-openjdk-11-jre_11.0.27+6~us1-0ubuntu1~22.04_amd64.deb ...\n",
            "Unpacking openjdk-11-jre:amd64 (11.0.27+6~us1-0ubuntu1~22.04) ...\n",
            "Selecting previously unselected package openjdk-11-jdk:amd64.\n",
            "Preparing to unpack .../9-openjdk-11-jdk_11.0.27+6~us1-0ubuntu1~22.04_amd64.deb ...\n",
            "Unpacking openjdk-11-jdk:amd64 (11.0.27+6~us1-0ubuntu1~22.04) ...\n",
            "Setting up libxtst6:amd64 (2:1.2.3-1build4) ...\n",
            "Setting up libxxf86dga1:amd64 (2:1.1.5-0ubuntu3) ...\n",
            "Setting up openjdk-11-jre:amd64 (11.0.27+6~us1-0ubuntu1~22.04) ...\n",
            "Setting up libxt-dev:amd64 (1:1.2.1-1) ...\n",
            "Setting up fonts-dejavu-core (2.37-2build1) ...\n",
            "Setting up fonts-dejavu-extra (2.37-2build1) ...\n",
            "Setting up x11-utils (7.7+5build2) ...\n",
            "Setting up openjdk-11-jdk:amd64 (11.0.27+6~us1-0ubuntu1~22.04) ...\n",
            "update-alternatives: using /usr/lib/jvm/java-11-openjdk-amd64/bin/jconsole to provide /usr/bin/jconsole (jconsole) in auto mode\n",
            "Setting up libatk-wrapper-java (0.38.0-5build1) ...\n",
            "Setting up libatk-wrapper-java-jni:amd64 (0.38.0-5build1) ...\n",
            "Processing triggers for fontconfig (2.13.1-4.2ubuntu5) ...\n",
            "Processing triggers for hicolor-icon-theme (0.17-2) ...\n",
            "Processing triggers for libc-bin (2.35-0ubuntu3.8) ...\n",
            "/sbin/ldconfig.real: /usr/local/lib/libtbbmalloc.so.2 is not a symbolic link\n",
            "\n",
            "/sbin/ldconfig.real: /usr/local/lib/libtcm.so.1 is not a symbolic link\n",
            "\n",
            "/sbin/ldconfig.real: /usr/local/lib/libur_loader.so.0 is not a symbolic link\n",
            "\n",
            "/sbin/ldconfig.real: /usr/local/lib/libtbbbind_2_5.so.3 is not a symbolic link\n",
            "\n",
            "/sbin/ldconfig.real: /usr/local/lib/libumf.so.0 is not a symbolic link\n",
            "\n",
            "/sbin/ldconfig.real: /usr/local/lib/libtbbmalloc_proxy.so.2 is not a symbolic link\n",
            "\n",
            "/sbin/ldconfig.real: /usr/local/lib/libtbbbind_2_0.so.3 is not a symbolic link\n",
            "\n",
            "/sbin/ldconfig.real: /usr/local/lib/libhwloc.so.15 is not a symbolic link\n",
            "\n",
            "/sbin/ldconfig.real: /usr/local/lib/libur_adapter_level_zero.so.0 is not a symbolic link\n",
            "\n",
            "/sbin/ldconfig.real: /usr/local/lib/libtbb.so.12 is not a symbolic link\n",
            "\n",
            "/sbin/ldconfig.real: /usr/local/lib/libtbbbind.so.3 is not a symbolic link\n",
            "\n",
            "/sbin/ldconfig.real: /usr/local/lib/libur_adapter_opencl.so.0 is not a symbolic link\n",
            "\n",
            "/sbin/ldconfig.real: /usr/local/lib/libtcm_debug.so.1 is not a symbolic link\n",
            "\n",
            "Processing triggers for man-db (2.10.2-1) ...\n",
            "Processing triggers for mailcap (3.70+nmu1ubuntu1) ...\n",
            "Requirement already satisfied: pyspark in /usr/local/lib/python3.11/dist-packages (3.5.1)\n",
            "Requirement already satisfied: py4j==0.10.9.7 in /usr/local/lib/python3.11/dist-packages (from pyspark) (0.10.9.7)\n",
            "--2025-05-24 20:43:41--  https://repo1.maven.org/maven2/org/mongodb/spark/mongo-spark-connector_2.12/3.0.1/mongo-spark-connector_2.12-3.0.1.jar\n",
            "Resolving repo1.maven.org (repo1.maven.org)... 199.232.192.209, 199.232.196.209, 2a04:4e42:4c::209, ...\n",
            "Connecting to repo1.maven.org (repo1.maven.org)|199.232.192.209|:443... connected.\n",
            "HTTP request sent, awaiting response... 200 OK\n",
            "Length: 552150 (539K) [application/java-archive]\n",
            "Saving to: ‘mongo-spark-connector_2.12-3.0.1.jar’\n",
            "\n",
            "mongo-spark-connect 100%[===================>] 539.21K  --.-KB/s    in 0.03s   \n",
            "\n",
            "2025-05-24 20:43:42 (15.7 MB/s) - ‘mongo-spark-connector_2.12-3.0.1.jar’ saved [552150/552150]\n",
            "\n"
          ]
        }
      ],
      "source": [
        "# Install PySpark and MongoDB Connector\n",
        "!apt install openjdk-11-jdk -y\n",
        "!pip install pyspark\n",
        "!wget https://repo1.maven.org/maven2/org/mongodb/spark/mongo-spark-connector_2.12/3.0.1/mongo-spark-connector_2.12-3.0.1.jar\n"
      ]
    },
    {
      "cell_type": "code",
      "source": [
        "import os\n",
        "from pyspark.sql import SparkSession\n",
        "\n",
        "os.environ[\"JAVA_HOME\"] = \"/usr/lib/jvm/java-11-openjdk-amd64\"\n",
        "\n",
        "spark = SparkSession.builder \\\n",
        "    .appName(\"NYC Yellow Taxi Trip Analysis\") \\\n",
        "    .config(\"spark.jars\", \"mongo-spark-connector_2.12-3.0.1.jar\") \\\n",
        "    .config(\"spark.mongodb.output.uri\", \"mongodb://127.0.0.1/taxi_db.trips\") \\\n",
        "    .getOrCreate()\n"
      ],
      "metadata": {
        "id": "lzMX_9e5af7e"
      },
      "execution_count": null,
      "outputs": []
    },
    {
      "cell_type": "code",
      "source": [
        "trip_df = spark.read.option(\"header\", True).option(\"inferSchema\", True).csv(\"/content/taxi_trip_data.csv\")\n",
        "zone_df = spark.read.option(\"header\", True).option(\"inferSchema\", True).csv(\"/content/taxi_zone_geo.csv\")\n"
      ],
      "metadata": {
        "id": "rEQIDpLqanBs"
      },
      "execution_count": null,
      "outputs": []
    },
    {
      "cell_type": "code",
      "source": [
        "# Show schema and some rows for trip_df\n",
        "print(\"Trip DataFrame Schema:\")\n",
        "trip_df.printSchema()\n",
        "print(\"Trip DataFrame sample:\")\n",
        "trip_df.show(5)"
      ],
      "metadata": {
        "colab": {
          "base_uri": "https://localhost:8080/"
        },
        "id": "uGX5Lld6DHwE",
        "outputId": "f4ae95b8-537d-45d4-d4cc-c2c821b0f755"
      },
      "execution_count": null,
      "outputs": [
        {
          "output_type": "stream",
          "name": "stdout",
          "text": [
            "Trip DataFrame Schema:\n",
            "root\n",
            " |-- vendor_id: integer (nullable = true)\n",
            " |-- pickup_datetime: string (nullable = true)\n",
            " |-- dropoff_datetime: string (nullable = true)\n",
            " |-- passenger_count: integer (nullable = true)\n",
            " |-- trip_distance: double (nullable = true)\n",
            " |-- rate_code: integer (nullable = true)\n",
            " |-- store_and_fwd_flag: string (nullable = true)\n",
            " |-- payment_type: integer (nullable = true)\n",
            " |-- fare_amount: double (nullable = true)\n",
            " |-- extra: double (nullable = true)\n",
            " |-- mta_tax: double (nullable = true)\n",
            " |-- tip_amount: double (nullable = true)\n",
            " |-- tolls_amount: double (nullable = true)\n",
            " |-- imp_surcharge: double (nullable = true)\n",
            " |-- pickup_location_id: integer (nullable = true)\n",
            " |-- dropoff_location_id: integer (nullable = true)\n",
            "\n",
            "Trip DataFrame sample:\n",
            "+---------+----------------+----------------+---------------+-------------+---------+------------------+------------+-----------+-----+-------+----------+------------+-------------+------------------+-------------------+\n",
            "|vendor_id| pickup_datetime|dropoff_datetime|passenger_count|trip_distance|rate_code|store_and_fwd_flag|payment_type|fare_amount|extra|mta_tax|tip_amount|tolls_amount|imp_surcharge|pickup_location_id|dropoff_location_id|\n",
            "+---------+----------------+----------------+---------------+-------------+---------+------------------+------------+-----------+-----+-------+----------+------------+-------------+------------------+-------------------+\n",
            "|        1| 5/11/2018 17:40| 5/11/2018 17:55|              1|          1.6|        1|                 N|           1|       11.5|  1.0|    0.5|       0.0|         0.0|          0.3|                48|                 68|\n",
            "|        2| 3/22/2018 23:01| 3/22/2018 23:25|              1|         9.52|        1|                 N|           1|       28.5|  0.5|    0.5|      5.96|         0.0|          0.3|               138|                230|\n",
            "|        2|  7/24/2018 9:58| 7/24/2018 10:22|              1|         2.17|        1|                 N|           1|       15.5|  0.0|    0.5|       1.5|         0.0|          0.3|               234|                 48|\n",
            "|        2|12/21/2018 18:28|12/21/2018 18:35|              1|         0.86|        1|                 N|           2|        6.0|  1.0|    0.5|       0.0|         0.0|          0.3|                79|                125|\n",
            "|        1| 8/15/2018 13:58| 8/15/2018 14:05|              1|          0.3|        1|                 N|           2|        5.5|  0.0|    0.5|       0.0|         0.0|          0.3|               233|                233|\n",
            "+---------+----------------+----------------+---------------+-------------+---------+------------------+------------+-----------+-----+-------+----------+------------+-------------+------------------+-------------------+\n",
            "only showing top 5 rows\n",
            "\n"
          ]
        }
      ]
    },
    {
      "cell_type": "code",
      "source": [
        "# Show schema and some rows for zone_df\n",
        "print(\"\\nZone DataFrame Schema:\")\n",
        "zone_df.printSchema()\n",
        "print(\"Zone DataFrame sample:\")\n",
        "zone_df.show(5)\n"
      ],
      "metadata": {
        "colab": {
          "base_uri": "https://localhost:8080/"
        },
        "id": "gW--8okeDJSx",
        "outputId": "04eb2593-e202-49d2-92f7-d55f22ec2785"
      },
      "execution_count": null,
      "outputs": [
        {
          "output_type": "stream",
          "name": "stdout",
          "text": [
            "\n",
            "Zone DataFrame Schema:\n",
            "root\n",
            " |-- zone_id: integer (nullable = true)\n",
            " |-- zone_name: string (nullable = true)\n",
            " |-- borough: string (nullable = true)\n",
            " |-- zone_geom: string (nullable = true)\n",
            "\n",
            "Zone DataFrame sample:\n",
            "+-------+--------------------+-------+--------------------+\n",
            "|zone_id|           zone_name|borough|           zone_geom|\n",
            "+-------+--------------------+-------+--------------------+\n",
            "|      1|      Newark Airport|    EWR|POLYGON((-74.1856...|\n",
            "|      3|Allerton/Pelham G...|  Bronx|POLYGON((-73.8485...|\n",
            "|     18|        Bedford Park|  Bronx|POLYGON((-73.8844...|\n",
            "|     20|             Belmont|  Bronx|POLYGON((-73.8839...|\n",
            "|     31|          Bronx Park|  Bronx|POLYGON((-73.8710...|\n",
            "+-------+--------------------+-------+--------------------+\n",
            "only showing top 5 rows\n",
            "\n"
          ]
        }
      ]
    },
    {
      "cell_type": "markdown",
      "source": [
        "# Data Exploration and Initial Analysis"
      ],
      "metadata": {
        "id": "ZF8VRD-5NeAL"
      }
    },
    {
      "cell_type": "code",
      "source": [
        "# Basic analysis on trip_df\n",
        "print(\"\\nBasic statistics for Trip DataFrame:\")\n",
        "trip_df.describe().show()\n"
      ],
      "metadata": {
        "colab": {
          "base_uri": "https://localhost:8080/"
        },
        "id": "mYQlDMkMDLQT",
        "outputId": "d32f7ccb-14ea-4d38-eb56-bd650356e3a5"
      },
      "execution_count": null,
      "outputs": [
        {
          "output_type": "stream",
          "name": "stdout",
          "text": [
            "\n",
            "Basic statistics for Trip DataFrame:\n",
            "+-------+------------------+---------------+----------------+------------------+-----------------+------------------+------------------+-------------------+------------------+-------------------+-------------------+------------------+------------------+--------------------+------------------+-------------------+\n",
            "|summary|         vendor_id|pickup_datetime|dropoff_datetime|   passenger_count|    trip_distance|         rate_code|store_and_fwd_flag|       payment_type|       fare_amount|              extra|            mta_tax|        tip_amount|      tolls_amount|       imp_surcharge|pickup_location_id|dropoff_location_id|\n",
            "+-------+------------------+---------------+----------------+------------------+-----------------+------------------+------------------+-------------------+------------------+-------------------+-------------------+------------------+------------------+--------------------+------------------+-------------------+\n",
            "|  count|             70655|          70655|           70655|             70655|            70655|             70655|             70655|              70655|             70655|              70654|              70654|             70654|             70654|               70654|             70654|              70654|\n",
            "|   mean|1.5894558063831292|           NULL|            NULL|1.5923996886278395|2.919647300261849|1.0498761587998018|              NULL| 1.3140046705824076|12.954483192979978|0.33167888583802757|0.49734622243609705|1.8623821722762266| 0.342984119795046| 0.29954567328073434|163.03594984006568|  161.1297591077646|\n",
            "| stddev| 0.514960663169242|           NULL|            NULL|1.2373315274917607|3.780824723962231|0.7991651850610699|              NULL|0.48248239349662586|12.093708688842833|0.47046076179368995|0.04012499695826249|2.5255142840618743|1.5359452573617047|0.015509600008277745| 66.74058532281313|  70.65694873244634|\n",
            "|    min|                 1|  1/1/2018 0:19|   1/1/2018 0:28|                 0|              0.0|                 1|                 N|                  1|             -52.0|               -1.0|               -0.5|             -1.56|             -5.76|                -0.3|                 1|                  1|\n",
            "|    max|                 4|  9/9/2018 9:37|   9/9/2018 9:50|                 6|            84.38|                99|                 Y|                  4|            999.99|               17.5|                0.5|             100.0|             53.52|                 0.3|               265|                265|\n",
            "+-------+------------------+---------------+----------------+------------------+-----------------+------------------+------------------+-------------------+------------------+-------------------+-------------------+------------------+------------------+--------------------+------------------+-------------------+\n",
            "\n"
          ]
        }
      ]
    },
    {
      "cell_type": "code",
      "source": [
        "# Basic analysis on zone_df\n",
        "print(\"\\nBasic statistics for Zone DataFrame:\")\n",
        "zone_df.describe().show()"
      ],
      "metadata": {
        "colab": {
          "base_uri": "https://localhost:8080/"
        },
        "id": "WG3u2KRGDNNZ",
        "outputId": "b36af4b1-67f2-4739-f900-5cf1ca2bfc83"
      },
      "execution_count": null,
      "outputs": [
        {
          "output_type": "stream",
          "name": "stdout",
          "text": [
            "\n",
            "Basic statistics for Zone DataFrame:\n",
            "+-------+------------------+--------------------+-------------+--------------------+\n",
            "|summary|           zone_id|           zone_name|      borough|           zone_geom|\n",
            "+-------+------------------+--------------------+-------------+--------------------+\n",
            "|  count|               263|                 263|          263|                 263|\n",
            "|   mean|131.98479087452472|                NULL|         NULL|                NULL|\n",
            "| stddev| 76.07378748192713|                NULL|         NULL|                NULL|\n",
            "|    min|                 1|Allerton/Pelham G...|        Bronx|MULTIPOLYGON(((-7...|\n",
            "|    max|               263|      Yorkville West|Staten Island|POLYGON((-74.2105...|\n",
            "+-------+------------------+--------------------+-------------+--------------------+\n",
            "\n"
          ]
        }
      ]
    },
    {
      "cell_type": "code",
      "source": [
        "# Count the number of trips\n",
        "trip_count = trip_df.count()\n",
        "print(f\"\\nTotal number of trips: {trip_count}\")"
      ],
      "metadata": {
        "colab": {
          "base_uri": "https://localhost:8080/"
        },
        "id": "ITkSe6fBDOpz",
        "outputId": "647d784e-6850-4e42-deed-7b06ff02ca26"
      },
      "execution_count": null,
      "outputs": [
        {
          "output_type": "stream",
          "name": "stdout",
          "text": [
            "\n",
            "Total number of trips: 70655\n"
          ]
        }
      ]
    },
    {
      "cell_type": "code",
      "source": [
        "# Find the average trip distance\n",
        "from pyspark.sql.functions import avg\n",
        "average_distance = trip_df.agg(avg(\"trip_distance\")).collect()[0][0]\n",
        "print(f\"Average trip distance: {average_distance:.2f}\")\n"
      ],
      "metadata": {
        "colab": {
          "base_uri": "https://localhost:8080/"
        },
        "id": "QDuDx3deDQip",
        "outputId": "1f73cf26-9f70-406a-f255-f89e18585f20"
      },
      "execution_count": null,
      "outputs": [
        {
          "output_type": "stream",
          "name": "stdout",
          "text": [
            "Average trip distance: 2.92\n"
          ]
        }
      ]
    },
    {
      "cell_type": "code",
      "source": [
        "# Count the number of zones\n",
        "zone_count = zone_df.count()\n",
        "print(f\"\\nTotal number of zones: {zone_count}\")"
      ],
      "metadata": {
        "colab": {
          "base_uri": "https://localhost:8080/"
        },
        "id": "yyu7lY4_DTmQ",
        "outputId": "6e4e386e-6af0-4373-cba5-783b7aa6a24e"
      },
      "execution_count": null,
      "outputs": [
        {
          "output_type": "stream",
          "name": "stdout",
          "text": [
            "\n",
            "Total number of zones: 263\n"
          ]
        }
      ]
    },
    {
      "cell_type": "code",
      "source": [
        "# Find the number of unique boroughs\n",
        "from pyspark.sql.functions import countDistinct\n",
        "unique_boroughs = zone_df.agg(countDistinct(\"borough\")).collect()[0][0]\n",
        "print(f\"Number of unique boroughs: {unique_boroughs}\")\n"
      ],
      "metadata": {
        "colab": {
          "base_uri": "https://localhost:8080/"
        },
        "id": "6Aq87xY4bBRC",
        "outputId": "39cf6d3d-caf8-48c1-cfe2-bb7b7acb8c2b"
      },
      "execution_count": null,
      "outputs": [
        {
          "output_type": "stream",
          "name": "stdout",
          "text": [
            "Number of unique boroughs: 6\n"
          ]
        }
      ]
    },
    {
      "cell_type": "code",
      "source": [
        "\n",
        "from pyspark.sql.functions import col, sum, when, count, lit\n",
        "\n",
        "def analyze_dataframe(df, df_name):\n",
        "    print(f\"\\n--- Analysis for DataFrame: {df_name} ---\")\n",
        "\n",
        "    # 1. Columns with missing values (including zeros as potential missing)\n",
        "    print(\"Missing Values (Nulls or Zero-equivalents):\")\n",
        "    missing_counts = df.select([sum(when((col(c).isNull()) | (col(c) == 0), lit(1)).otherwise(lit(0))).alias(c) for c in df.columns])\n",
        "    missing_counts.show()\n",
        "\n",
        "    # 2. Value distributions (example for key columns)\n",
        "    print(\"\\nValue Distributions:\")\n",
        "    if 'payment_type' in df.columns:\n",
        "        print(\"\\nPayment Type Distribution:\")\n",
        "        df.groupBy(\"payment_type\").count().show()\n",
        "    if 'passenger_count' in df.columns:\n",
        "        print(\"\\nPassenger Count Distribution:\")\n",
        "        df.groupBy(\"passenger_count\").count().show()\n",
        "    if 'trip_distance' in df.columns:\n",
        "        print(\"\\nTrip Distance Summary Statistics:\")\n",
        "        df.select(\"trip_distance\").describe().show()\n",
        "    if 'total_amount' in df.columns:\n",
        "        print(\"\\nTotal Amount Summary Statistics:\")\n",
        "        df.select(\"total_amount\").describe().show()\n",
        "    if 'pickup_borough' in df.columns:\n",
        "        print(\"\\nPickup Borough Distribution:\")\n",
        "        df.groupBy(\"pickup_borough\").count().show()\n",
        "    if 'zone' in df.columns:\n",
        "         print(\"\\nZone Distribution (top 20):\")\n",
        "         df.groupBy(\"zone\").count().orderBy(col(\"count\").desc()).show(20)\n",
        "\n",
        "\n",
        "    # 3. Observations about outliers or suspicious values\n",
        "    # This requires looking at the describe() output and distributions\n",
        "    print(\"\\nObservations about Outliers or Suspicious Values:\")\n",
        "    print(\"Review the 'describe()' outputs for columns like 'trip_distance', 'fare_amount', 'total_amount'.\")\n",
        "    print(\"High maximum values might indicate outliers.\")\n",
        "    print(\"Zero counts for columns like 'passenger_count' or 'trip_distance' should be investigated if not expected.\")\n",
        "    if 'tpep_pickup_datetime' in df.columns and 'tpep_dropoff_datetime' in df.columns:\n",
        "        print(\"Check for cases where dropoff time is before pickup time (requires calculating trip duration).\")\n",
        "    if 'total_amount' in df.columns and 'fare_amount' in df.columns and 'tip_amount' in df.columns:\n",
        "        print(\"Check if total_amount is the sum of fare_amount, tip_amount, and other charges (taxes, tolls, etc.).\")\n",
        "\n",
        "\n",
        "    # 4. Other metadata\n",
        "    print(\"\\nOther Metadata:\")\n",
        "    print(f\"Number of rows: {df.count()}\")\n",
        "    print(f\"Number of columns: {len(df.columns)}\")\n",
        "    print(\"Schema:\")\n",
        "    df.printSchema()"
      ],
      "metadata": {
        "id": "n_7VI5o7cT4O"
      },
      "execution_count": null,
      "outputs": []
    },
    {
      "cell_type": "code",
      "source": [
        "analyze_dataframe(trip_df, \"Trip DataFrame\")"
      ],
      "metadata": {
        "colab": {
          "base_uri": "https://localhost:8080/"
        },
        "id": "EFblbdc4FRiL",
        "outputId": "0d6e9bd8-43f4-47dd-8cf1-334069c71c6b"
      },
      "execution_count": null,
      "outputs": [
        {
          "output_type": "stream",
          "name": "stdout",
          "text": [
            "\n",
            "--- Analysis for DataFrame: Trip DataFrame ---\n",
            "Missing Values (Nulls or Zero-equivalents):\n",
            "+---------+---------------+----------------+---------------+-------------+---------+------------------+------------+-----------+-----+-------+----------+------------+-------------+------------------+-------------------+\n",
            "|vendor_id|pickup_datetime|dropoff_datetime|passenger_count|trip_distance|rate_code|store_and_fwd_flag|payment_type|fare_amount|extra|mta_tax|tip_amount|tolls_amount|imp_surcharge|pickup_location_id|dropoff_location_id|\n",
            "+---------+---------------+----------------+---------------+-------------+---------+------------------+------------+-----------+-----+-------+----------+------------+-------------+------------------+-------------------+\n",
            "|        0|              0|               0|            626|          475|        0|                 0|           0|         15|37724|    293|     24058|       66762|           25|                 0|                  0|\n",
            "+---------+---------------+----------------+---------------+-------------+---------+------------------+------------+-----------+-----+-------+----------+------------+-------------+------------------+-------------------+\n",
            "\n",
            "\n",
            "Value Distributions:\n",
            "\n",
            "Payment Type Distribution:\n",
            "+------------+-----+\n",
            "|payment_type|count|\n",
            "+------------+-----+\n",
            "|           1|48995|\n",
            "|           3|  350|\n",
            "|           4|   88|\n",
            "|           2|21222|\n",
            "+------------+-----+\n",
            "\n",
            "\n",
            "Passenger Count Distribution:\n",
            "+---------------+-----+\n",
            "|passenger_count|count|\n",
            "+---------------+-----+\n",
            "|              1|50326|\n",
            "|              6| 1852|\n",
            "|              3| 2907|\n",
            "|              5| 3204|\n",
            "|              4| 1426|\n",
            "|              2|10314|\n",
            "|              0|  626|\n",
            "+---------------+-----+\n",
            "\n",
            "\n",
            "Trip Distance Summary Statistics:\n",
            "+-------+-----------------+\n",
            "|summary|    trip_distance|\n",
            "+-------+-----------------+\n",
            "|  count|            70655|\n",
            "|   mean|2.919647300261849|\n",
            "| stddev|3.780824723962231|\n",
            "|    min|              0.0|\n",
            "|    max|            84.38|\n",
            "+-------+-----------------+\n",
            "\n",
            "\n",
            "Observations about Outliers or Suspicious Values:\n",
            "Review the 'describe()' outputs for columns like 'trip_distance', 'fare_amount', 'total_amount'.\n",
            "High maximum values might indicate outliers.\n",
            "Zero counts for columns like 'passenger_count' or 'trip_distance' should be investigated if not expected.\n",
            "\n",
            "Other Metadata:\n",
            "Number of rows: 70655\n",
            "Number of columns: 16\n",
            "Schema:\n",
            "root\n",
            " |-- vendor_id: integer (nullable = true)\n",
            " |-- pickup_datetime: string (nullable = true)\n",
            " |-- dropoff_datetime: string (nullable = true)\n",
            " |-- passenger_count: integer (nullable = true)\n",
            " |-- trip_distance: double (nullable = true)\n",
            " |-- rate_code: integer (nullable = true)\n",
            " |-- store_and_fwd_flag: string (nullable = true)\n",
            " |-- payment_type: integer (nullable = true)\n",
            " |-- fare_amount: double (nullable = true)\n",
            " |-- extra: double (nullable = true)\n",
            " |-- mta_tax: double (nullable = true)\n",
            " |-- tip_amount: double (nullable = true)\n",
            " |-- tolls_amount: double (nullable = true)\n",
            " |-- imp_surcharge: double (nullable = true)\n",
            " |-- pickup_location_id: integer (nullable = true)\n",
            " |-- dropoff_location_id: integer (nullable = true)\n",
            "\n"
          ]
        }
      ]
    },
    {
      "cell_type": "code",
      "source": [
        "analyze_dataframe(zone_df, \"Zone DataFrame\")"
      ],
      "metadata": {
        "colab": {
          "base_uri": "https://localhost:8080/"
        },
        "id": "wt6-C3cUFUQ7",
        "outputId": "92bfa456-54da-4169-e15e-170788f1e35e"
      },
      "execution_count": null,
      "outputs": [
        {
          "output_type": "stream",
          "name": "stdout",
          "text": [
            "\n",
            "--- Analysis for DataFrame: Zone DataFrame ---\n",
            "Missing Values (Nulls or Zero-equivalents):\n",
            "+-------+---------+-------+---------+\n",
            "|zone_id|zone_name|borough|zone_geom|\n",
            "+-------+---------+-------+---------+\n",
            "|      0|        0|      0|        0|\n",
            "+-------+---------+-------+---------+\n",
            "\n",
            "\n",
            "Value Distributions:\n",
            "\n",
            "Observations about Outliers or Suspicious Values:\n",
            "Review the 'describe()' outputs for columns like 'trip_distance', 'fare_amount', 'total_amount'.\n",
            "High maximum values might indicate outliers.\n",
            "Zero counts for columns like 'passenger_count' or 'trip_distance' should be investigated if not expected.\n",
            "\n",
            "Other Metadata:\n",
            "Number of rows: 263\n",
            "Number of columns: 4\n",
            "Schema:\n",
            "root\n",
            " |-- zone_id: integer (nullable = true)\n",
            " |-- zone_name: string (nullable = true)\n",
            " |-- borough: string (nullable = true)\n",
            " |-- zone_geom: string (nullable = true)\n",
            "\n"
          ]
        }
      ]
    },
    {
      "cell_type": "markdown",
      "source": [
        "# Data Cleaning"
      ],
      "metadata": {
        "id": "q7WWWQg6NpxS"
      }
    },
    {
      "cell_type": "markdown",
      "source": [
        "## Removing Complete Nulls and Duplicates"
      ],
      "metadata": {
        "id": "sJxi2LNyFpbn"
      }
    },
    {
      "cell_type": "code",
      "source": [
        "from pyspark.sql.functions import (\n",
        "    col, unix_timestamp, round, when, isnan, lit, abs\n",
        ")\n",
        "\n",
        "# Load the CSVs (using the existing dataframes from previous cells)\n",
        "trip_df_raw = trip_df # Keep a raw copy if needed later, though not strictly necessary for the fix\n",
        "\n",
        "# Drop completely null rows\n",
        "trip_df = trip_df_raw.dropna(how=\"all\")\n",
        "\n",
        "# Drop duplicates\n",
        "trip_df = trip_df.dropDuplicates()\n",
        "\n",
        "# Drop columns that don’t contribute meaningfully\n",
        "useless_cols = [\"medallion\", \"hack_license\", \"store_and_fwd_flag\"]\n",
        "cols_to_drop = [c for c in useless_cols if c in trip_df.columns]\n",
        "trip_df = trip_df.drop(*cols_to_drop)"
      ],
      "metadata": {
        "id": "eSQHQyugDcZi"
      },
      "execution_count": null,
      "outputs": []
    },
    {
      "cell_type": "markdown",
      "source": [
        "## Adding New Columns"
      ],
      "metadata": {
        "id": "Kice8srtFuNw"
      }
    },
    {
      "cell_type": "code",
      "source": [
        "\n",
        "# Convert pickup/dropoff datetime to timestamp and compute trip duration\n",
        "if \"pickup_datetime\" in trip_df.columns and \"dropoff_datetime\" in trip_df.columns:\n",
        "    # Attempt to parse based on observed format (M/d/yyyy H:mm)\n",
        "    trip_df = trip_df.withColumn(\"pickup_ts\", unix_timestamp(col(\"pickup_datetime\"), \"M/d/yyyy H:mm\"))\n",
        "    trip_df = trip_df.withColumn(\"dropoff_ts\", unix_timestamp(col(\"dropoff_datetime\"), \"M/d/yyyy H:mm\"))\n",
        "\n",
        "    # Trip duration in minutes\n",
        "    trip_df = trip_df.withColumn(\"trip_duration_min\",\n",
        "        round((col(\"dropoff_ts\") - col(\"pickup_ts\")) / 60.0, 2)\n",
        "    )\n",
        "    # Drop intermediate timestamp cols\n",
        "    trip_df = trip_df.drop(\"pickup_ts\", \"dropoff_ts\")\n",
        "else:\n",
        "    # Handle case where datetime columns are missing or not strings\n",
        "    print(\"Warning: Datetime columns for trip duration calculation not found or not in expected format.\")\n",
        "    # You might want to drop the trip_duration_min column or handle this differently\n",
        "    if \"trip_duration_min\" in trip_df.columns:\n",
        "         trip_df = trip_df.drop(\"trip_duration_min\")\n",
        "\n",
        "\n",
        "# Total trip cost: fare + extra + mta + tip + tolls\n",
        "# Check if necessary columns exist before calculating computed_total_cost\n",
        "cost_cols = [\"fare_amount\", \"extra\", \"mta_tax\", \"tip_amount\", \"tolls_amount\"]\n",
        "if all(c in trip_df.columns for c in cost_cols):\n",
        "    trip_df = trip_df.withColumn(\"computed_total_cost\",\n",
        "        round(\n",
        "            col(\"fare_amount\") +\n",
        "            col(\"extra\") +\n",
        "            col(\"mta_tax\") +\n",
        "            col(\"tip_amount\") +\n",
        "            col(\"tolls_amount\"), 2\n",
        "        )\n",
        "    )\n",
        "else:\n",
        "    print(f\"Warning: Not all cost columns ({', '.join(cost_cols)}) found for computing total cost.\")\n",
        "    # Handle case where computed_total_cost cannot be calculated\n",
        "\n",
        "\n",
        "# Replace empty strings and zeroes in key numeric columns with nulls\n",
        "# Check dataframe schema before this loop to confirm column names\n",
        "print(\"\\nSchema before cleaning numeric columns:\")\n",
        "trip_df.printSchema()\n",
        "\n",
        "# Define columns to check, ensuring they exist in the DataFrame\n",
        "columns_to_check = [\"trip_distance\", \"fare_amount\", \"total_amount\", \"tip_amount\", \"tolls_amount\", \"pickup_location_id\", \"dropoff_location_id\"]\n",
        "# Filter out columns that are not in the DataFrame's schema\n",
        "existing_columns_to_check = [c for c in columns_to_check if c in trip_df.columns]\n",
        "\n",
        "print(f\"\\nAttempting to clean columns: {existing_columns_to_check}\")\n",
        "\n",
        "for col_name in existing_columns_to_check:\n",
        "    # Check the data type of the column. This cleaning logic is best for numeric types.\n",
        "    # For string types, \"\" can be replaced, but == 0 or isnan might cause issues.\n",
        "    col_type = dict(trip_df.dtypes)[col_name]\n",
        "    if col_type in [\"int\", \"long\", \"double\", \"float\", \"decimal\"]:\n",
        "         trip_df = trip_df.withColumn(col_name,\n",
        "            when((col(col_name) == 0) | isnan(col(col_name)), None).otherwise(col(col_name))\n",
        "         )\n",
        "    elif col_type == \"string\":\n",
        "         trip_df = trip_df.withColumn(col_name,\n",
        "            when(col(col_name) == \"\", None).otherwise(col(col_name))\n",
        "         )\n",
        "    else:\n",
        "         print(f\"Skipping cleaning for column '{col_name}' due to unsupported type: {col_type}\")"
      ],
      "metadata": {
        "colab": {
          "base_uri": "https://localhost:8080/"
        },
        "id": "rXruue9hD7_z",
        "outputId": "5113cbcb-dac9-4457-fe37-6d480d7cd853"
      },
      "execution_count": null,
      "outputs": [
        {
          "output_type": "stream",
          "name": "stdout",
          "text": [
            "\n",
            "Schema before cleaning numeric columns:\n",
            "root\n",
            " |-- vendor_id: integer (nullable = true)\n",
            " |-- pickup_datetime: string (nullable = true)\n",
            " |-- dropoff_datetime: string (nullable = true)\n",
            " |-- passenger_count: integer (nullable = true)\n",
            " |-- trip_distance: double (nullable = true)\n",
            " |-- rate_code: integer (nullable = true)\n",
            " |-- payment_type: integer (nullable = true)\n",
            " |-- fare_amount: double (nullable = true)\n",
            " |-- extra: double (nullable = true)\n",
            " |-- mta_tax: double (nullable = true)\n",
            " |-- tip_amount: double (nullable = true)\n",
            " |-- tolls_amount: double (nullable = true)\n",
            " |-- imp_surcharge: double (nullable = true)\n",
            " |-- pickup_location_id: integer (nullable = true)\n",
            " |-- dropoff_location_id: integer (nullable = true)\n",
            " |-- trip_duration_min: double (nullable = true)\n",
            " |-- computed_total_cost: double (nullable = true)\n",
            "\n",
            "\n",
            "Attempting to clean columns: ['trip_distance', 'fare_amount', 'tip_amount', 'tolls_amount', 'pickup_location_id', 'dropoff_location_id']\n"
          ]
        }
      ]
    },
    {
      "cell_type": "markdown",
      "source": [
        "## Checking Data Validity"
      ],
      "metadata": {
        "id": "lcokRuD6Fzrn"
      }
    },
    {
      "cell_type": "code",
      "source": [
        "# Filter based on conditions, checking if columns exist before filtering\n",
        "filter_conditions = []\n",
        "if \"trip_distance\" in trip_df.columns:\n",
        "    filter_conditions.append(col(\"trip_distance\") > 0)\n",
        "if \"fare_amount\" in trip_df.columns:\n",
        "    filter_conditions.append(col(\"fare_amount\") > 0)\n",
        "if \"trip_duration_min\" in trip_df.columns:\n",
        "     filter_conditions.append(col(\"trip_duration_min\") > 0)\n",
        "if \"passenger_count\" in trip_df.columns:\n",
        "     filter_conditions.append((col(\"passenger_count\") >= 1) & (col(\"passenger_count\") <= 6))\n",
        "\n",
        "# Combine conditions if any exist\n",
        "if filter_conditions:\n",
        "    combined_filter = filter_conditions[0]\n",
        "    for condition in filter_conditions[1:]:\n",
        "        combined_filter &= condition\n",
        "    trip_df = trip_df.filter(combined_filter)\n",
        "else:\n",
        "    print(\"Warning: No valid columns found for applying primary filter conditions.\")\n",
        "\n",
        "\n",
        "# Keep only valid payment types (1–4)\n",
        "if \"payment_type\" in trip_df.columns:\n",
        "    trip_df = trip_df.filter(col(\"payment_type\").isin([1, 2, 3, 4]))\n",
        "else:\n",
        "    print(\"Warning: 'payment_type' column not found for filtering.\")\n",
        "\n",
        "\n",
        "# Remove rows with large mismatch between computed and given total cost\n",
        "# Check if both columns exist before comparing\n",
        "if \"total_amount\" in trip_df.columns and \"computed_total_cost\" in trip_df.columns:\n",
        "    trip_df = trip_df.filter(\n",
        "        abs(col(\"total_amount\") - col(\"computed_total_cost\")) <= 1.0\n",
        "    )\n",
        "elif \"total_amount\" in trip_df.columns:\n",
        "    print(\"Warning: 'computed_total_cost' column not found for mismatch filter.\")\n",
        "elif \"computed_total_cost\" in trip_df.columns:\n",
        "     print(\"Warning: 'total_amount' column not found for mismatch filter.\")\n",
        "else:\n",
        "    print(\"Warning: Neither 'total_amount' nor 'computed_total_cost' found for mismatch filter.\")\n"
      ],
      "metadata": {
        "colab": {
          "base_uri": "https://localhost:8080/"
        },
        "id": "fY24DlemazK-",
        "outputId": "026ddd4f-ed92-4bd6-a71d-e4e0195646de"
      },
      "execution_count": null,
      "outputs": [
        {
          "output_type": "stream",
          "name": "stdout",
          "text": [
            "Warning: 'total_amount' column not found for mismatch filter.\n"
          ]
        }
      ]
    },
    {
      "cell_type": "markdown",
      "source": [
        "## Checking Data Post Preprocessing"
      ],
      "metadata": {
        "id": "GxmxwaMhGJbU"
      }
    },
    {
      "cell_type": "code",
      "source": [
        "trip_df.printSchema()\n",
        "trip_df.show(5, truncate=False)\n",
        "print(\"Total Cleaned Records:\", trip_df.count())"
      ],
      "metadata": {
        "colab": {
          "base_uri": "https://localhost:8080/"
        },
        "id": "qf5yjphjGH-x",
        "outputId": "f544f0e1-0529-48ea-94b4-078ab4e8ee05"
      },
      "execution_count": null,
      "outputs": [
        {
          "output_type": "stream",
          "name": "stdout",
          "text": [
            "root\n",
            " |-- vendor_id: integer (nullable = true)\n",
            " |-- pickup_datetime: string (nullable = true)\n",
            " |-- dropoff_datetime: string (nullable = true)\n",
            " |-- passenger_count: integer (nullable = true)\n",
            " |-- trip_distance: double (nullable = true)\n",
            " |-- rate_code: integer (nullable = true)\n",
            " |-- payment_type: integer (nullable = true)\n",
            " |-- fare_amount: double (nullable = true)\n",
            " |-- extra: double (nullable = true)\n",
            " |-- mta_tax: double (nullable = true)\n",
            " |-- tip_amount: double (nullable = true)\n",
            " |-- tolls_amount: double (nullable = true)\n",
            " |-- imp_surcharge: double (nullable = true)\n",
            " |-- pickup_location_id: integer (nullable = true)\n",
            " |-- dropoff_location_id: integer (nullable = true)\n",
            " |-- trip_duration_min: double (nullable = true)\n",
            " |-- computed_total_cost: double (nullable = true)\n",
            "\n",
            "+---------+---------------+----------------+---------------+-------------+---------+------------+-----------+-----+-------+----------+------------+-------------+------------------+-------------------+-----------------+-------------------+\n",
            "|vendor_id|pickup_datetime|dropoff_datetime|passenger_count|trip_distance|rate_code|payment_type|fare_amount|extra|mta_tax|tip_amount|tolls_amount|imp_surcharge|pickup_location_id|dropoff_location_id|trip_duration_min|computed_total_cost|\n",
            "+---------+---------------+----------------+---------------+-------------+---------+------------+-----------+-----+-------+----------+------------+-------------+------------------+-------------------+-----------------+-------------------+\n",
            "|2        |3/21/2018 13:02|3/21/2018 13:21 |1              |4.42         |1        |1           |16.5       |0.0  |0.5    |3.46      |NULL        |0.3          |113               |49                 |19.0             |20.46              |\n",
            "|1        |6/15/2018 6:26 |6/15/2018 6:34  |1              |1.1          |1        |1           |7.0        |0.0  |0.5    |2.3       |NULL        |0.3          |48                |162                |8.0              |9.8                |\n",
            "|2        |2/8/2018 9:41  |2/8/2018 10:14  |2              |5.79         |1        |1           |25.5       |0.0  |0.5    |2.0       |NULL        |0.3          |238               |137                |33.0             |28.0               |\n",
            "|2        |4/30/2018 13:22|4/30/2018 13:35 |1              |1.4          |1        |1           |9.5        |0.0  |0.5    |2.06      |NULL        |0.3          |68                |234                |13.0             |12.06              |\n",
            "|1        |3/21/2018 23:17|3/21/2018 23:42 |1              |8.9          |1        |1           |26.5       |0.5  |0.5    |5.55      |NULL        |0.3          |211               |89                 |25.0             |33.05              |\n",
            "+---------+---------------+----------------+---------------+-------------+---------+------------+-----------+-----+-------+----------+------------+-------------+------------------+-------------------+-----------------+-------------------+\n",
            "only showing top 5 rows\n",
            "\n",
            "Total Cleaned Records: 69392\n"
          ]
        }
      ]
    },
    {
      "cell_type": "code",
      "source": [
        "from pyspark.sql.functions import col, when, isnan, count, mean, expr, percentile_approx, lit\n",
        "\n",
        "# Calculate means and median from data\n",
        "mean_tip = trip_df.select(mean(\"tip_amount\")).first()[0] or 0.0\n",
        "mean_tolls = trip_df.select(mean(\"tolls_amount\")).first()[0] or 0.0\n",
        "mean_extra = trip_df.select(mean(\"extra\")).first()[0] or 0.0\n",
        "mean_mta_tax = trip_df.select(mean(\"mta_tax\")).first()[0] or 0.0\n",
        "mean_imp_surcharge = trip_df.select(mean(\"imp_surcharge\")).first()[0] or 0.0\n",
        "\n",
        "median_passenger = trip_df.select(percentile_approx(\"passenger_count\", 0.5)).collect()[0][0]"
      ],
      "metadata": {
        "id": "eJxmOA6_HI2n"
      },
      "execution_count": null,
      "outputs": []
    },
    {
      "cell_type": "code",
      "source": [
        "# Calculate avg fare per trip_distance ratio (ignoring zero and nulls)\n",
        "fare_per_dist = trip_df.filter(\n",
        "    (col(\"fare_amount\") > 0) & (col(\"trip_distance\") > 0)\n",
        ").selectExpr(\"fare_amount / trip_distance as fare_per_dist\")\n",
        "\n",
        "avg_fare_per_dist = fare_per_dist.agg(mean(\"fare_per_dist\")).collect()[0][0]\n",
        "\n",
        "# Step 2: Impute fare_amount based on trip_distance if fare_amount is null or 0\n",
        "trip_df = trip_df.withColumn(\n",
        "    \"fare_amount\",\n",
        "    when(\n",
        "        (col(\"fare_amount\").isNull() | (col(\"fare_amount\") == 0)) & (col(\"trip_distance\").isNotNull() & (col(\"trip_distance\") > 0)),\n",
        "        col(\"trip_distance\") * avg_fare_per_dist\n",
        "    ).otherwise(col(\"fare_amount\"))\n",
        ")"
      ],
      "metadata": {
        "id": "xQrL2GmVHKUX"
      },
      "execution_count": null,
      "outputs": []
    },
    {
      "cell_type": "code",
      "source": [
        "# Impute trip_distance based on fare_amount if trip_distance is null or 0\n",
        "trip_df = trip_df.withColumn(\n",
        "    \"trip_distance\",\n",
        "    when(\n",
        "        (col(\"trip_distance\").isNull() | (col(\"trip_distance\") == 0)) & (col(\"fare_amount\").isNotNull() & (col(\"fare_amount\") > 0)),\n",
        "        col(\"fare_amount\") / avg_fare_per_dist\n",
        "    ).otherwise(col(\"trip_distance\"))\n",
        ")\n"
      ],
      "metadata": {
        "id": "UubqwHMzHLtM"
      },
      "execution_count": null,
      "outputs": []
    },
    {
      "cell_type": "code",
      "source": [
        "#Drop rows where BOTH trip_distance and fare_amount are NULL or 0 (unreliable)\n",
        "trip_df = trip_df.filter(\n",
        "    ~(\n",
        "        ((col(\"trip_distance\").isNull()) | (col(\"trip_distance\") == 0)) &\n",
        "        ((col(\"fare_amount\").isNull()) | (col(\"fare_amount\") == 0))\n",
        "    )\n",
        ")\n"
      ],
      "metadata": {
        "id": "MW6S7MaMHNld"
      },
      "execution_count": null,
      "outputs": []
    },
    {
      "cell_type": "code",
      "source": [
        "# Impute passenger_count with median\n",
        "trip_df = trip_df.withColumn(\n",
        "    \"passenger_count\",\n",
        "    when(col(\"passenger_count\").isNull(), median_passenger).otherwise(col(\"passenger_count\"))\n",
        ")"
      ],
      "metadata": {
        "id": "KRWXoGRLHO5R"
      },
      "execution_count": null,
      "outputs": []
    },
    {
      "cell_type": "code",
      "source": [
        "# Impute tip_amount and tolls_amount with zero if null or zero (common for no tips or no tolls)\n",
        "trip_df = trip_df.withColumn(\n",
        "    \"tip_amount\",\n",
        "    when(col(\"tip_amount\").isNull(), 0.0).otherwise(col(\"tip_amount\"))\n",
        ").withColumn(\n",
        "    \"tolls_amount\",\n",
        "    when(col(\"tolls_amount\").isNull(), 0.0).otherwise(col(\"tolls_amount\"))\n",
        ")"
      ],
      "metadata": {
        "id": "6w29LZelHQil"
      },
      "execution_count": null,
      "outputs": []
    },
    {
      "cell_type": "code",
      "source": [
        "# Impute other numeric columns (extra, mta_tax, imp_surcharge) with mean\n",
        "trip_df = trip_df.fillna({\n",
        "    \"extra\": mean_extra,\n",
        "    \"mta_tax\": mean_mta_tax,\n",
        "    \"imp_surcharge\": mean_imp_surcharge\n",
        "})"
      ],
      "metadata": {
        "id": "CajKOgrvHR5Q"
      },
      "execution_count": null,
      "outputs": []
    },
    {
      "cell_type": "code",
      "source": [
        "# Drop rows with missing pickup/dropoff location IDs (required for join later)\n",
        "trip_df = trip_df.filter(\n",
        "    (col(\"pickup_location_id\").isNotNull()) & (col(\"dropoff_location_id\").isNotNull())\n",
        ")"
      ],
      "metadata": {
        "id": "w8TG92PYHT7p"
      },
      "execution_count": null,
      "outputs": []
    },
    {
      "cell_type": "code",
      "source": [
        "# Confirm updated schema and record count\n",
        "trip_df.printSchema()\n",
        "print(\"Total Records after imputation and cleaning:\", trip_df.count())\n",
        "\n"
      ],
      "metadata": {
        "colab": {
          "base_uri": "https://localhost:8080/"
        },
        "id": "t8qvAcilinx0",
        "outputId": "a528d4eb-da4f-44f4-9aee-633f09064679"
      },
      "execution_count": null,
      "outputs": [
        {
          "output_type": "stream",
          "name": "stdout",
          "text": [
            "root\n",
            " |-- vendor_id: integer (nullable = true)\n",
            " |-- pickup_datetime: string (nullable = true)\n",
            " |-- dropoff_datetime: string (nullable = true)\n",
            " |-- passenger_count: integer (nullable = true)\n",
            " |-- trip_distance: double (nullable = true)\n",
            " |-- rate_code: integer (nullable = true)\n",
            " |-- payment_type: integer (nullable = true)\n",
            " |-- fare_amount: double (nullable = true)\n",
            " |-- extra: double (nullable = false)\n",
            " |-- mta_tax: double (nullable = false)\n",
            " |-- tip_amount: double (nullable = true)\n",
            " |-- tolls_amount: double (nullable = true)\n",
            " |-- imp_surcharge: double (nullable = false)\n",
            " |-- pickup_location_id: integer (nullable = true)\n",
            " |-- dropoff_location_id: integer (nullable = true)\n",
            " |-- trip_duration_min: double (nullable = true)\n",
            " |-- computed_total_cost: double (nullable = true)\n",
            " |-- pickup_zone: string (nullable = true)\n",
            " |-- pickup_borough: string (nullable = true)\n",
            " |-- dropoff_zone: string (nullable = true)\n",
            " |-- dropoff_borough: string (nullable = true)\n",
            "\n",
            "Total Records after imputation and cleaning: 69392\n"
          ]
        }
      ]
    },
    {
      "cell_type": "code",
      "source": [
        "from pyspark.sql.functions import col\n",
        "\n",
        "# --- Clean zone_df ---\n",
        "zone_df = zone_df.dropDuplicates([\"zone_id\"])\n",
        "\n",
        "# --- Join trip_df with zone_df ---\n",
        "\n",
        "# Drop existing joined columns before joining to avoid duplicates if the cell is run multiple times\n",
        "cols_to_drop_before_join = [\"pickup_zone\", \"pickup_borough\", \"dropoff_zone\", \"dropoff_borough\"]\n",
        "trip_df = trip_df.drop(*[c for c in cols_to_drop_before_join if c in trip_df.columns])\n",
        "\n",
        "\n",
        "# Join for pickup location info\n",
        "trip_df = trip_df.join(\n",
        "    zone_df.selectExpr(\n",
        "        \"zone_id as pickup_location_id_zone\",\n",
        "        \"zone_name as pickup_zone\",\n",
        "        \"borough as pickup_borough\"\n",
        "    ),\n",
        "    trip_df.pickup_location_id == col(\"pickup_location_id_zone\"),\n",
        "    how=\"left\"\n",
        ").drop(\"pickup_location_id_zone\")\n",
        "\n",
        "# Join for dropoff location info\n",
        "# Explicitly rename columns in zone_df for the dropoff join to avoid ambiguity\n",
        "zone_df_dropoff = zone_df.selectExpr(\n",
        "    \"zone_id as dropoff_location_id_zone\",\n",
        "    \"zone_name as dropoff_zone\",\n",
        "    \"borough as dropoff_borough\"\n",
        ")\n",
        "\n",
        "trip_df = trip_df.join(\n",
        "    zone_df_dropoff, # Use the explicitly renamed DataFrame\n",
        "    trip_df.dropoff_location_id == col(\"dropoff_location_id_zone\"),\n",
        "    how=\"left\"\n",
        ").drop(\"dropoff_location_id_zone\")\n",
        "\n",
        "# Optional: Show few rows to verify join\n",
        "trip_df.select(\n",
        "    \"pickup_location_id\", \"pickup_zone\", \"pickup_borough\",\n",
        "    \"dropoff_location_id\", \"dropoff_zone\", \"dropoff_borough\"\n",
        ").show(5, truncate=False)\n",
        "\n",
        "# --- Write to CSV ---\n",
        "output_path = \"/content/trip_data_cleaned.csv\"\n",
        "\n",
        "# Write as a single CSV file with header\n",
        "trip_df.coalesce(1).write.mode(\"overwrite\").option(\"header\", True).csv(output_path)"
      ],
      "metadata": {
        "colab": {
          "base_uri": "https://localhost:8080/"
        },
        "id": "3b43Z_CTjIj9",
        "outputId": "1c1504ad-2d68-450c-bd60-7f7e1043a801"
      },
      "execution_count": null,
      "outputs": [
        {
          "output_type": "stream",
          "name": "stdout",
          "text": [
            "+------------------+-----------------------+--------------+-------------------+--------------------+---------------+\n",
            "|pickup_location_id|pickup_zone            |pickup_borough|dropoff_location_id|dropoff_zone        |dropoff_borough|\n",
            "+------------------+-----------------------+--------------+-------------------+--------------------+---------------+\n",
            "|113               |Greenwich Village North|Manhattan     |49                 |Clinton Hill        |Brooklyn       |\n",
            "|48                |Clinton East           |Manhattan     |162                |Midtown East        |Manhattan      |\n",
            "|238               |Upper West Side North  |Manhattan     |137                |Kips Bay            |Manhattan      |\n",
            "|68                |East Chelsea           |Manhattan     |234                |Union Sq            |Manhattan      |\n",
            "|211               |SoHo                   |Manhattan     |89                 |Flatbush/Ditmas Park|Brooklyn       |\n",
            "+------------------+-----------------------+--------------+-------------------+--------------------+---------------+\n",
            "only showing top 5 rows\n",
            "\n"
          ]
        }
      ]
    },
    {
      "cell_type": "markdown",
      "source": [
        "## Check Processing Results"
      ],
      "metadata": {
        "id": "lmeOYe8hf9vk"
      }
    },
    {
      "cell_type": "code",
      "source": [
        "from pyspark.sql.functions import (\n",
        "    col, count, when, sum, mean, min, max, stddev, expr,\n",
        "    to_timestamp, lit, abs as abs_spark, countDistinct, percentile_approx\n",
        ")\n",
        "from pyspark.sql.types import IntegerType, FloatType, DoubleType, StringType\n",
        "from pyspark.ml.feature import Bucketizer\n",
        "from functools import reduce"
      ],
      "metadata": {
        "id": "1lCJBaHlHzzd"
      },
      "execution_count": null,
      "outputs": []
    },
    {
      "cell_type": "markdown",
      "source": [
        "Data Quality"
      ],
      "metadata": {
        "id": "v8_TJqboIAlI"
      }
    },
    {
      "cell_type": "code",
      "source": [
        "# Nulls, empty strings, zeros\n",
        "print(\"\\n-> Nulls, Empty Strings, and Zeros in Each Column:\")\n",
        "null_checks = []\n",
        "for c in trip_df.columns:\n",
        "    null_checks.append(count(when(col(c).isNull(), c)).alias(f\"{c}_nulls\"))\n",
        "    null_checks.append(count(when(col(c) == \"\", c)).alias(f\"{c}_empty_strings\"))\n",
        "    null_checks.append(count(when(col(c) == 0, c)).alias(f\"{c}_zeros\"))\n",
        "trip_df.select(null_checks).show(vertical=True)"
      ],
      "metadata": {
        "colab": {
          "base_uri": "https://localhost:8080/"
        },
        "id": "wgQ8RGUQH1Pk",
        "outputId": "e083624d-f9e4-472d-9b59-b9f229e1ae95"
      },
      "execution_count": null,
      "outputs": [
        {
          "output_type": "stream",
          "name": "stdout",
          "text": [
            "\n",
            "-> Nulls, Empty Strings, and Zeros in Each Column:\n",
            "-RECORD 0----------------------------------\n",
            " vendor_id_nulls                   | 0     \n",
            " vendor_id_empty_strings           | 0     \n",
            " vendor_id_zeros                   | 0     \n",
            " pickup_datetime_nulls             | 0     \n",
            " pickup_datetime_empty_strings     | 0     \n",
            " pickup_datetime_zeros             | 0     \n",
            " dropoff_datetime_nulls            | 0     \n",
            " dropoff_datetime_empty_strings    | 0     \n",
            " dropoff_datetime_zeros            | 0     \n",
            " passenger_count_nulls             | 0     \n",
            " passenger_count_empty_strings     | 0     \n",
            " passenger_count_zeros             | 0     \n",
            " trip_distance_nulls               | 0     \n",
            " trip_distance_empty_strings       | 0     \n",
            " trip_distance_zeros               | 0     \n",
            " rate_code_nulls                   | 0     \n",
            " rate_code_empty_strings           | 0     \n",
            " rate_code_zeros                   | 0     \n",
            " payment_type_nulls                | 0     \n",
            " payment_type_empty_strings        | 0     \n",
            " payment_type_zeros                | 0     \n",
            " fare_amount_nulls                 | 0     \n",
            " fare_amount_empty_strings         | 0     \n",
            " fare_amount_zeros                 | 0     \n",
            " extra_nulls                       | 0     \n",
            " extra_empty_strings               | 0     \n",
            " extra_zeros                       | 36931 \n",
            " mta_tax_nulls                     | 0     \n",
            " mta_tax_empty_strings             | 0     \n",
            " mta_tax_zeros                     | 195   \n",
            " tip_amount_nulls                  | 0     \n",
            " tip_amount_empty_strings          | 0     \n",
            " tip_amount_zeros                  | 23385 \n",
            " tolls_amount_nulls                | 0     \n",
            " tolls_amount_empty_strings        | 0     \n",
            " tolls_amount_zeros                | 65598 \n",
            " imp_surcharge_nulls               | 0     \n",
            " imp_surcharge_empty_strings       | 0     \n",
            " imp_surcharge_zeros               | 7     \n",
            " pickup_location_id_nulls          | 0     \n",
            " pickup_location_id_empty_strings  | 0     \n",
            " pickup_location_id_zeros          | 0     \n",
            " dropoff_location_id_nulls         | 0     \n",
            " dropoff_location_id_empty_strings | 0     \n",
            " dropoff_location_id_zeros         | 0     \n",
            " trip_duration_min_nulls           | 0     \n",
            " trip_duration_min_empty_strings   | 0     \n",
            " trip_duration_min_zeros           | 0     \n",
            " computed_total_cost_nulls         | 0     \n",
            " computed_total_cost_empty_strings | 0     \n",
            " computed_total_cost_zeros         | 0     \n",
            " pickup_zone_nulls                 | 1056  \n",
            " pickup_zone_empty_strings         | 0     \n",
            " pickup_zone_zeros                 | 0     \n",
            " pickup_borough_nulls              | 1056  \n",
            " pickup_borough_empty_strings      | 0     \n",
            " pickup_borough_zeros              | 0     \n",
            " dropoff_zone_nulls                | 1073  \n",
            " dropoff_zone_empty_strings        | 0     \n",
            " dropoff_zone_zeros                | 0     \n",
            " dropoff_borough_nulls             | 1073  \n",
            " dropoff_borough_empty_strings     | 0     \n",
            " dropoff_borough_zeros             | 0     \n",
            "\n"
          ]
        }
      ]
    },
    {
      "cell_type": "code",
      "source": [
        "# Duplicate check\n",
        "print(\"\\n-> Duplicate Records Check:\")\n",
        "total_records = trip_df.count()\n",
        "distinct_records = trip_df.distinct().count()\n",
        "print(f\"Total records: {total_records}\")\n",
        "print(f\"Distinct records: {distinct_records}\")\n",
        "print(f\"Duplicates found: {total_records - distinct_records}\")"
      ],
      "metadata": {
        "colab": {
          "base_uri": "https://localhost:8080/"
        },
        "id": "kejezIYMH2xq",
        "outputId": "2a4c68e8-acb7-4579-b48a-08837f013ed0"
      },
      "execution_count": null,
      "outputs": [
        {
          "output_type": "stream",
          "name": "stdout",
          "text": [
            "\n",
            "-> Duplicate Records Check:\n",
            "Total records: 69392\n",
            "Distinct records: 69392\n",
            "Duplicates found: 0\n"
          ]
        }
      ]
    },
    {
      "cell_type": "markdown",
      "source": [
        "Time Based"
      ],
      "metadata": {
        "id": "Kk0g2BeNH_Ha"
      }
    },
    {
      "cell_type": "code",
      "source": [
        "# Trip duration validation\n",
        "print(\"\\n-> Trip Duration Statistics (in minutes):\")\n",
        "trip_df.select(\n",
        "    min(\"trip_duration_min\").alias(\"min_duration\"),\n",
        "    max(\"trip_duration_min\").alias(\"max_duration\"),\n",
        "    mean(\"trip_duration_min\").alias(\"avg_duration\"),\n",
        "    stddev(\"trip_duration_min\").alias(\"stddev_duration\")\n",
        ").show()\n",
        "\n",
        "print(\"\\n-> Illogical Trip Durations (<= 0 or > 180 mins):\")\n",
        "illogical_duration_count = trip_df.filter((col('trip_duration_min') <= 0) | (col('trip_duration_min') > 180)).count()\n",
        "print(f\"Count: {illogical_duration_count}\")"
      ],
      "metadata": {
        "colab": {
          "base_uri": "https://localhost:8080/"
        },
        "id": "0GRlzEYkH7A4",
        "outputId": "4a3b90e3-fe2f-454a-c5bd-34f2f0a7a71d"
      },
      "execution_count": null,
      "outputs": [
        {
          "output_type": "stream",
          "name": "stdout",
          "text": [
            "\n",
            "-> Trip Duration Statistics (in minutes):\n",
            "+------------+------------+-----------------+----------------+\n",
            "|min_duration|max_duration|     avg_duration| stddev_duration|\n",
            "+------------+------------+-----------------+----------------+\n",
            "|         1.0|      1440.0|17.68177887940973|68.4108102113426|\n",
            "+------------+------------+-----------------+----------------+\n",
            "\n",
            "\n",
            "-> Illogical Trip Durations (<= 0 or > 180 mins):\n",
            "Count: 169\n"
          ]
        }
      ]
    },
    {
      "cell_type": "code",
      "source": [
        "# Pickup time range\n",
        "print(\"\\n-> Pickup Datetime Range:\")\n",
        "trip_df.select(\n",
        "    min(to_timestamp(\"pickup_datetime\", \"M/d/yyyy H:mm\")).alias(\"first_pickup\"),\n",
        "    max(to_timestamp(\"pickup_datetime\", \"M/d/yyyy H:mm\")).alias(\"last_pickup\")\n",
        ").show()"
      ],
      "metadata": {
        "colab": {
          "base_uri": "https://localhost:8080/"
        },
        "id": "-dI2330pH8bC",
        "outputId": "3f3e5418-e999-4e90-f276-52c654564289"
      },
      "execution_count": null,
      "outputs": [
        {
          "output_type": "stream",
          "name": "stdout",
          "text": [
            "\n",
            "-> Pickup Datetime Range:\n",
            "+-------------------+-------------------+\n",
            "|       first_pickup|        last_pickup|\n",
            "+-------------------+-------------------+\n",
            "|2018-01-01 00:19:00|2018-12-31 23:45:00|\n",
            "+-------------------+-------------------+\n",
            "\n"
          ]
        }
      ]
    },
    {
      "cell_type": "markdown",
      "source": [
        "Geographical Data"
      ],
      "metadata": {
        "id": "1jmCwb6eIFw-"
      }
    },
    {
      "cell_type": "code",
      "source": [
        "print(\"\\n-> Pickup Zones Without Match:\")\n",
        "trip_df.filter(col(\"pickup_zone\").isNull()).select(countDistinct(\"pickup_location_id\")).show()\n",
        "\n",
        "print(\"\\n-> Dropoff Zones Without Match:\")\n",
        "trip_df.filter(col(\"dropoff_zone\").isNull()).select(countDistinct(\"dropoff_location_id\")).show()\n",
        "\n",
        "print(\"\\n-> Top 10 Pickup Zones:\")\n",
        "trip_df.groupBy(\"pickup_borough\", \"pickup_zone\").count().orderBy(\"count\", ascending=False).show(10)\n",
        "\n",
        "print(\"\\n-> Top 10 Dropoff Zones:\")\n",
        "trip_df.groupBy(\"dropoff_borough\", \"dropoff_zone\").count().orderBy(\"count\", ascending=False).show(10)\n",
        "\n",
        "# Print rows with missing pickup_zone or dropoff_zone with their location ids\n",
        "print(\"\\n-> Rows with missing pickup_zone or dropoff_zone and their location IDs:\")\n",
        "trip_df.filter(col(\"pickup_zone\").isNull() | col(\"dropoff_zone\").isNull()) \\\n",
        "    .select(\"pickup_location_id\", \"pickup_zone\", \"dropoff_location_id\", \"dropoff_zone\") \\\n",
        "    .show(truncate=False)"
      ],
      "metadata": {
        "colab": {
          "base_uri": "https://localhost:8080/"
        },
        "id": "c4PoVY4JIV8O",
        "outputId": "021800ff-d9be-4e35-e114-1878d6b97a32"
      },
      "execution_count": null,
      "outputs": [
        {
          "output_type": "stream",
          "name": "stdout",
          "text": [
            "\n",
            "-> Pickup Zones Without Match:\n",
            "+----------------------------------+\n",
            "|count(DISTINCT pickup_location_id)|\n",
            "+----------------------------------+\n",
            "|                                 3|\n",
            "+----------------------------------+\n",
            "\n",
            "\n",
            "-> Dropoff Zones Without Match:\n",
            "+-----------------------------------+\n",
            "|count(DISTINCT dropoff_location_id)|\n",
            "+-----------------------------------+\n",
            "|                                  3|\n",
            "+-----------------------------------+\n",
            "\n",
            "\n",
            "-> Top 10 Pickup Zones:\n",
            "+--------------+--------------------+-----+\n",
            "|pickup_borough|         pickup_zone|count|\n",
            "+--------------+--------------------+-----+\n",
            "|     Manhattan|Upper East Side S...| 2872|\n",
            "|     Manhattan|      Midtown Center| 2589|\n",
            "|     Manhattan|Upper East Side N...| 2551|\n",
            "|     Manhattan|Penn Station/Madi...| 2398|\n",
            "|     Manhattan|        Midtown East| 2381|\n",
            "|     Manhattan|Times Sq/Theatre ...| 2356|\n",
            "|     Manhattan|         Murray Hill| 2230|\n",
            "|     Manhattan|            Union Sq| 2188|\n",
            "|     Manhattan|        Clinton East| 2155|\n",
            "|     Manhattan| Lincoln Square East| 2127|\n",
            "+--------------+--------------------+-----+\n",
            "only showing top 10 rows\n",
            "\n",
            "\n",
            "-> Top 10 Dropoff Zones:\n",
            "+---------------+--------------------+-----+\n",
            "|dropoff_borough|        dropoff_zone|count|\n",
            "+---------------+--------------------+-----+\n",
            "|      Manhattan|Upper East Side N...| 2671|\n",
            "|      Manhattan|      Midtown Center| 2669|\n",
            "|      Manhattan|Upper East Side S...| 2540|\n",
            "|      Manhattan|         Murray Hill| 2190|\n",
            "|      Manhattan|Times Sq/Theatre ...| 2117|\n",
            "|      Manhattan|        Midtown East| 2115|\n",
            "|      Manhattan|        Clinton East| 1965|\n",
            "|      Manhattan| Lincoln Square East| 1861|\n",
            "|      Manhattan|            Union Sq| 1850|\n",
            "|      Manhattan|Penn Station/Madi...| 1813|\n",
            "+---------------+--------------------+-----+\n",
            "only showing top 10 rows\n",
            "\n",
            "\n",
            "-> Rows with missing pickup_zone or dropoff_zone and their location IDs:\n",
            "+------------------+-----------------+-------------------+---------------+\n",
            "|pickup_location_id|pickup_zone      |dropoff_location_id|dropoff_zone   |\n",
            "+------------------+-----------------+-------------------+---------------+\n",
            "|264               |NULL             |264                |NULL           |\n",
            "|264               |NULL             |264                |NULL           |\n",
            "|264               |NULL             |264                |NULL           |\n",
            "|264               |NULL             |264                |NULL           |\n",
            "|264               |NULL             |264                |NULL           |\n",
            "|264               |NULL             |264                |NULL           |\n",
            "|264               |NULL             |264                |NULL           |\n",
            "|264               |NULL             |141                |Lenox Hill West|\n",
            "|264               |NULL             |264                |NULL           |\n",
            "|264               |NULL             |264                |NULL           |\n",
            "|264               |NULL             |68                 |East Chelsea   |\n",
            "|264               |NULL             |264                |NULL           |\n",
            "|264               |NULL             |264                |NULL           |\n",
            "|138               |LaGuardia Airport|265                |NULL           |\n",
            "|264               |NULL             |148                |Lower East Side|\n",
            "|264               |NULL             |264                |NULL           |\n",
            "|264               |NULL             |264                |NULL           |\n",
            "|264               |NULL             |48                 |Clinton East   |\n",
            "|264               |NULL             |264                |NULL           |\n",
            "|264               |NULL             |264                |NULL           |\n",
            "+------------------+-----------------+-------------------+---------------+\n",
            "only showing top 20 rows\n",
            "\n"
          ]
        }
      ]
    },
    {
      "cell_type": "markdown",
      "source": [
        "Financial Data"
      ],
      "metadata": {
        "id": "hF4xU1WIIXeG"
      }
    },
    {
      "cell_type": "code",
      "source": [
        "if \"total_amount\" in trip_df.columns and \"computed_total_cost\" in trip_df.columns:\n",
        "    print(\"\\n-> Total Fare Comparison (Recorded vs Computed):\")\n",
        "    trip_df.select(\n",
        "        mean(\"total_amount\").alias(\"avg_total\"),\n",
        "        mean(\"computed_total_cost\").alias(\"avg_computed\"),\n",
        "        mean(abs_spark(col(\"total_amount\") - col(\"computed_total_cost\"))).alias(\"avg_discrepancy\")\n",
        "    ).show()\n",
        "\n",
        "# Fare per mile\n",
        "print(\"\\n-> Fare Per Mile:\")\n",
        "trip_df.withColumn(\"fare_per_mile\", col(\"fare_amount\") / col(\"trip_distance\")) \\\n",
        "    .select(\n",
        "        mean(\"fare_per_mile\").alias(\"avg_rate\"),\n",
        "        min(\"fare_per_mile\").alias(\"min_rate\"),\n",
        "        max(\"fare_per_mile\").alias(\"max_rate\")\n",
        "    ).show()"
      ],
      "metadata": {
        "colab": {
          "base_uri": "https://localhost:8080/"
        },
        "id": "r_WDcvy1Iaqt",
        "outputId": "9696d9cb-f45f-464a-eff6-38e3e1b74ffb"
      },
      "execution_count": null,
      "outputs": [
        {
          "output_type": "stream",
          "name": "stdout",
          "text": [
            "\n",
            "-> Fare Per Mile:\n",
            "+---------------+--------------------+--------+\n",
            "|       avg_rate|            min_rate|max_rate|\n",
            "+---------------+--------------------+--------+\n",
            "|6.4375299989745|0.002631578947368...|  5200.0|\n",
            "+---------------+--------------------+--------+\n",
            "\n"
          ]
        }
      ]
    },
    {
      "cell_type": "markdown",
      "source": [
        "Statistics"
      ],
      "metadata": {
        "id": "1qmWUdH6IchG"
      }
    },
    {
      "cell_type": "code",
      "source": [
        "import matplotlib.pyplot as plt\n",
        "import seaborn as sns\n",
        "histogram_bins = {\n",
        "    \"trip_distance\": [float('-inf'), 0, 1, 3, 5, 10, 20, 50, 100, 200, float('inf')],\n",
        "    \"fare_amount\": [float('-inf'), 0, 5, 10, 20, 30, 50, 100, 200, float('inf')],\n",
        "    \"trip_duration_min\": [float('-inf'), 0, 5, 15, 30, 60, 120, 180, float('inf')]\n",
        "}\n",
        "\n",
        "for col_name, splits in histogram_bins.items():\n",
        "    print(f\"\\n-> Generating Histogram for {col_name}:\")\n",
        "\n",
        "    bucketizer = Bucketizer(splits=splits, inputCol=col_name, outputCol=f\"{col_name}_bin\")\n",
        "    bucketed_df = bucketizer.setHandleInvalid(\"keep\").transform(trip_df)\n",
        "\n",
        "    # Collect data for plotting - Be cautious with large datasets\n",
        "    # This converts the Spark DataFrame to a pandas DataFrame in memory\n",
        "    histogram_data = bucketed_df.groupBy(f\"{col_name}_bin\").count().orderBy(f\"{col_name}_bin\").toPandas()\n",
        "\n",
        "    # Map bin indices to meaningful labels (optional but helpful for x-axis)\n",
        "    # You might need to adjust the labels based on your splits\n",
        "    bin_labels = []\n",
        "    for i in range(len(splits) - 1):\n",
        "        if i == 0:\n",
        "            label = f\"<{splits[i+1]}\"\n",
        "        elif i == len(splits) - 2:\n",
        "            label = f\">{splits[i]}\"\n",
        "        else:\n",
        "            label = f\"{splits[i]}-{splits[i+1]}\"\n",
        "        bin_labels.append(label)\n",
        "\n",
        "    # Add labels to the pandas DataFrame\n",
        "    histogram_data['bin_label'] = histogram_data[f\"{col_name}_bin\"].apply(lambda x: bin_labels[int(x)] if x is not None and x < len(bin_labels) else 'Invalid/Other')\n",
        "\n",
        "    # Plotting\n",
        "    plt.figure(figsize=(10, 6))\n",
        "    sns.barplot(x='bin_label', y='count', data=histogram_data, color='skyblue')\n",
        "    plt.title(f'Distribution of {col_name} (Binned)')\n",
        "    plt.xlabel(col_name)\n",
        "    plt.ylabel('Count')\n",
        "    plt.xticks(rotation=45, ha='right') # Rotate labels for better readability\n",
        "    plt.tight_layout() # Adjust layout to prevent labels overlapping\n",
        "    plt.show()"
      ],
      "metadata": {
        "colab": {
          "base_uri": "https://localhost:8080/",
          "height": 1000
        },
        "id": "beZPV4oqIhHh",
        "outputId": "a3d38f99-a490-41ed-bec1-1d5dd966fcc7"
      },
      "execution_count": null,
      "outputs": [
        {
          "output_type": "stream",
          "name": "stdout",
          "text": [
            "\n",
            "-> Generating Histogram for trip_distance:\n"
          ]
        },
        {
          "output_type": "display_data",
          "data": {
            "text/plain": [
              "<Figure size 1000x600 with 1 Axes>"
            ],
            "image/png": "[encoded data removed]"
          },
          "metadata": {}
        },
        {
          "output_type": "stream",
          "name": "stdout",
          "text": [
            "\n",
            "-> Generating Histogram for fare_amount:\n"
          ]
        },
        {
          "output_type": "display_data",
          "data": {
            "text/plain": [
              "<Figure size 1000x600 with 1 Axes>"
            ],
            "image/png": "[encoded data removed]"
          },
          "metadata": {}
        },
        {
          "output_type": "stream",
          "name": "stdout",
          "text": [
            "\n",
            "-> Generating Histogram for trip_duration_min:\n"
          ]
        },
        {
          "output_type": "display_data",
          "data": {
            "text/plain": [
              "<Figure size 1000x600 with 1 Axes>"
            ],
            "image/png": "[encoded data removed]"
          },
          "metadata": {}
        }
      ]
    },
    {
      "cell_type": "markdown",
      "source": [
        "Categorical Data"
      ],
      "metadata": {
        "id": "TJyl71G4Ikt3"
      }
    },
    {
      "cell_type": "code",
      "source": [
        "# Payment Type Distribution (Bar Chart)\n",
        "print(\"\\n-> Generating Bar Chart for Payment Type Distribution:\")\n",
        "\n",
        "# Get the counts for each payment type\n",
        "payment_type_counts = trip_df.groupBy(\"payment_type\").count().orderBy(\"payment_type\").toPandas()\n",
        "\n",
        "plt.figure(figsize=(8, 5))\n",
        "sns.barplot(x='payment_type', y='count', data=payment_type_counts, palette='viridis')\n",
        "plt.title('Distribution of Payment Types')\n",
        "plt.xlabel('Payment Type')\n",
        "plt.ylabel('Number of Trips')\n",
        "plt.xticks(rotation=0) # Keep labels horizontal\n",
        "plt.tight_layout()\n",
        "plt.show()\n",
        "\n",
        "# Passenger Count Distribution (Bar Chart)\n",
        "print(\"\\n-> Generating Bar Chart for Passenger Count Distribution:\")\n",
        "\n",
        "# Get the counts for each passenger count\n",
        "passenger_count_counts = trip_df.groupBy(\"passenger_count\").count().orderBy(\"passenger_count\").toPandas()\n",
        "\n",
        "plt.figure(figsize=(8, 5))\n",
        "sns.barplot(x='passenger_count', y='count', data=passenger_count_counts, palette='viridis')\n",
        "plt.title('Distribution of Passenger Count')\n",
        "plt.xlabel('Passenger Count')\n",
        "plt.ylabel('Number of Trips')\n",
        "plt.xticks(rotation=0) # Keep labels horizontal\n",
        "plt.tight_layout()\n",
        "plt.show()"
      ],
      "metadata": {
        "colab": {
          "base_uri": "https://localhost:8080/",
          "height": 1000
        },
        "id": "DZcpeGq4Ijzb",
        "outputId": "0f057eee-e346-4bc6-934b-e91c1d9c3889"
      },
      "execution_count": null,
      "outputs": [
        {
          "output_type": "stream",
          "name": "stdout",
          "text": [
            "\n",
            "-> Generating Bar Chart for Payment Type Distribution:\n"
          ]
        },
        {
          "output_type": "stream",
          "name": "stderr",
          "text": [
            "<ipython-input-49-60e6b224e164>:8: FutureWarning: \n",
            "\n",
            "Passing `palette` without assigning `hue` is deprecated and will be removed in v0.14.0. Assign the `x` variable to `hue` and set `legend=False` for the same effect.\n",
            "\n",
            "  sns.barplot(x='payment_type', y='count', data=payment_type_counts, palette='viridis')\n"
          ]
        },
        {
          "output_type": "display_data",
          "data": {
            "text/plain": [
              "<Figure size 800x500 with 1 Axes>"
            ],
            "image/png": "[encoded data removed]"
          },
          "metadata": {}
        },
        {
          "output_type": "stream",
          "name": "stdout",
          "text": [
            "\n",
            "-> Generating Bar Chart for Passenger Count Distribution:\n"
          ]
        },
        {
          "output_type": "stream",
          "name": "stderr",
          "text": [
            "<ipython-input-49-60e6b224e164>:23: FutureWarning: \n",
            "\n",
            "Passing `palette` without assigning `hue` is deprecated and will be removed in v0.14.0. Assign the `x` variable to `hue` and set `legend=False` for the same effect.\n",
            "\n",
            "  sns.barplot(x='passenger_count', y='count', data=passenger_count_counts, palette='viridis')\n"
          ]
        },
        {
          "output_type": "display_data",
          "data": {
            "text/plain": [
              "<Figure size 800x500 with 1 Axes>"
            ],
            "image/png": "[encoded data removed]"
          },
          "metadata": {}
        }
      ]
    },
    {
      "cell_type": "markdown",
      "source": [
        "Correlations and Relationships"
      ],
      "metadata": {
        "id": "PrJPwWEZIp-D"
      }
    },
    {
      "cell_type": "code",
      "source": [
        "# Time vs Distance (Speed)\n",
        "print(\"\\n-> Average Speed (MPH):\")\n",
        "trip_df.withColumn(\"mph\", col(\"trip_distance\") / (col(\"trip_duration_min\") / 60)) \\\n",
        "    .select(\n",
        "        mean(\"mph\").alias(\"avg_speed\"),\n",
        "        min(\"mph\").alias(\"min_speed\"),\n",
        "        max(\"mph\").alias(\"max_speed\")\n",
        "    ).show()\n",
        "\n",
        "unreasonable_speeds_count = trip_df.withColumn('mph', col('trip_distance') / (col('trip_duration_min') / 60)) \\\n",
        "    .filter((col('mph') < 1) | (col('mph') > 80)) \\\n",
        "    .count()\n",
        "print(f\"\\n-> Unreasonable Speeds (<1 or >80 mph):\\nCount: {unreasonable_speeds_count}\")"
      ],
      "metadata": {
        "colab": {
          "base_uri": "https://localhost:8080/"
        },
        "id": "nAyidYPNIsv1",
        "outputId": "f8e2e335-0bbe-442b-f128-47c632cd71ca"
      },
      "execution_count": null,
      "outputs": [
        {
          "output_type": "stream",
          "name": "stdout",
          "text": [
            "\n",
            "-> Average Speed (MPH):\n",
            "+------------------+--------------------+---------+\n",
            "|         avg_speed|           min_speed|max_speed|\n",
            "+------------------+--------------------+---------+\n",
            "|11.368044095322624|0.023255813953488375|   2532.0|\n",
            "+------------------+--------------------+---------+\n",
            "\n",
            "\n",
            "-> Unreasonable Speeds (<1 or >80 mph):\n",
            "Count: 204\n"
          ]
        }
      ]
    },
    {
      "cell_type": "code",
      "source": [
        "# Tip percent\n",
        "print(\"\\n-> Tip Percentage of Fare:\")\n",
        "trip_df.withColumn(\"tip_pct\", col(\"tip_amount\") / col(\"fare_amount\") * 100) \\\n",
        "    .select(\n",
        "        mean(\"tip_pct\").alias(\"avg_tip_pct\"),\n",
        "        min(\"tip_pct\").alias(\"min_tip_pct\"),\n",
        "        max(\"tip_pct\").alias(\"max_tip_pct\")\n",
        "    ).show()"
      ],
      "metadata": {
        "colab": {
          "base_uri": "https://localhost:8080/"
        },
        "id": "R1we92mpIwqd",
        "outputId": "6f4e31ca-75b4-4aa7-f51e-07a3f278584e"
      },
      "execution_count": null,
      "outputs": [
        {
          "output_type": "stream",
          "name": "stdout",
          "text": [
            "\n",
            "-> Tip Percentage of Fare:\n",
            "+------------------+-----------+----------------+\n",
            "|       avg_tip_pct|min_tip_pct|     max_tip_pct|\n",
            "+------------------+-----------+----------------+\n",
            "|14.759587422618498|        0.0|531.578947368421|\n",
            "+------------------+-----------+----------------+\n",
            "\n"
          ]
        }
      ]
    },
    {
      "cell_type": "markdown",
      "source": [
        "Merge Completeness"
      ],
      "metadata": {
        "id": "KkHjkabXIzCv"
      }
    },
    {
      "cell_type": "code",
      "source": [
        "print(\"\\n-> Join Completeness Check:\")\n",
        "print(f\"Records with pickup zone: {trip_df.filter(col('pickup_zone').isNotNull()).count()}\")\n",
        "print(f\"Records with dropoff zone: {trip_df.filter(col('dropoff_zone').isNotNull()).count()}\")\n",
        "\n",
        "print(\"\\n-> Sample of Joined Pickup/Dropoff Zones:\")\n",
        "trip_df.select(\n",
        "    \"pickup_location_id\", \"pickup_zone\", \"pickup_borough\",\n",
        "    \"dropoff_location_id\", \"dropoff_zone\", \"dropoff_borough\"\n",
        ").sample(0.01).show(10, truncate=False)"
      ],
      "metadata": {
        "colab": {
          "base_uri": "https://localhost:8080/"
        },
        "id": "t-aEy_GlJIp6",
        "outputId": "2aece621-371b-4a55-d0aa-56a30ae9adf5"
      },
      "execution_count": null,
      "outputs": [
        {
          "output_type": "stream",
          "name": "stdout",
          "text": [
            "\n",
            "-> Join Completeness Check:\n",
            "Records with pickup zone: 68336\n",
            "Records with dropoff zone: 68319\n",
            "\n",
            "-> Sample of Joined Pickup/Dropoff Zones:\n",
            "+------------------+------------------------------+--------------+-------------------+---------------------+---------------+\n",
            "|pickup_location_id|pickup_zone                   |pickup_borough|dropoff_location_id|dropoff_zone         |dropoff_borough|\n",
            "+------------------+------------------------------+--------------+-------------------+---------------------+---------------+\n",
            "|144               |Little Italy/NoLiTa           |Manhattan     |249                |West Village         |Manhattan      |\n",
            "|138               |LaGuardia Airport             |Queens        |170                |Murray Hill          |Manhattan      |\n",
            "|263               |Yorkville West                |Manhattan     |137                |Kips Bay             |Manhattan      |\n",
            "|236               |Upper East Side North         |Manhattan     |237                |Upper East Side South|Manhattan      |\n",
            "|79                |East Village                  |Manhattan     |148                |Lower East Side      |Manhattan      |\n",
            "|137               |Kips Bay                      |Manhattan     |234                |Union Sq             |Manhattan      |\n",
            "|90                |Flatiron                      |Manhattan     |164                |Midtown South        |Manhattan      |\n",
            "|224               |Stuy Town/Peter Cooper Village|Manhattan     |4                  |Alphabet City        |Manhattan      |\n",
            "|233               |UN/Turtle Bay South           |Manhattan     |163                |Midtown North        |Manhattan      |\n",
            "|163               |Midtown North                 |Manhattan     |161                |Midtown Center       |Manhattan      |\n",
            "+------------------+------------------------------+--------------+-------------------+---------------------+---------------+\n",
            "only showing top 10 rows\n",
            "\n"
          ]
        }
      ]
    },
    {
      "cell_type": "markdown",
      "source": [
        "Column Check"
      ],
      "metadata": {
        "id": "AdhXpXBpJMJJ"
      }
    },
    {
      "cell_type": "code",
      "source": [
        "def column_profile(df, col_name):\n",
        "    return df.select(\n",
        "        count(col_name).alias(\"count\"),\n",
        "        mean(col_name).alias(\"mean\"),\n",
        "        stddev(col_name).alias(\"stddev\"),\n",
        "        min(col_name).alias(\"min\"),\n",
        "        percentile_approx(col_name, 0.25).alias(\"p25\"),\n",
        "        percentile_approx(col_name, 0.5).alias(\"median\"),\n",
        "        percentile_approx(col_name, 0.75).alias(\"p75\"),\n",
        "        max(col_name).alias(\"max\")\n",
        "    ).withColumn(\"column\", lit(col_name))"
      ],
      "metadata": {
        "id": "NROpIXXYJPmO"
      },
      "execution_count": null,
      "outputs": []
    },
    {
      "cell_type": "code",
      "source": [
        "numeric_cols = [f.name for f in trip_df.schema.fields if isinstance(f.dataType, (IntegerType, DoubleType, FloatType))]\n",
        "profiles = [column_profile(trip_df, col) for col in numeric_cols]\n",
        "print(\"\\n-> Numeric Columns Summary Statistics:\")\n",
        "reduce(lambda x, y: x.union(y), profiles).show(truncate=False)"
      ],
      "metadata": {
        "colab": {
          "base_uri": "https://localhost:8080/"
        },
        "id": "QQjdYW_4JR91",
        "outputId": "af8911a4-cbe0-4c03-8a90-a3e7c9b92963"
      },
      "execution_count": null,
      "outputs": [
        {
          "output_type": "stream",
          "name": "stdout",
          "text": [
            "\n",
            "-> Numeric Columns Summary Statistics:\n",
            "+-----+-------------------+--------------------+----+-----+------+-----+------+-------------------+\n",
            "|count|mean               |stddev              |min |p25  |median|p75  |max   |column             |\n",
            "+-----+-------------------+--------------------+----+-----+------+-----+------+-------------------+\n",
            "|69392|1.5952559372838369 |0.5142457375308046  |1.0 |1.0  |2.0   |2.0  |4.0   |vendor_id          |\n",
            "|69392|1.6090327415264007 |1.2360157701426473  |1.0 |1.0  |1.0   |2.0  |6.0   |passenger_count    |\n",
            "|69392|2.943243601567896  |3.7849099868286595  |0.01|0.99 |1.62  |3.0  |84.38 |trip_distance      |\n",
            "|69392|1.0355948812543232 |0.25358124772555485 |1.0 |1.0  |1.0   |1.0  |5.0   |rate_code          |\n",
            "|69392|1.308882868342172  |0.4754406267240588  |1.0 |1.0  |1.0   |2.0  |4.0   |payment_type       |\n",
            "|69392|12.89608528360618  |11.195499973804727  |0.01|6.5  |9.5   |14.5 |326.0 |fare_amount        |\n",
            "|69392|0.33247103412497114|0.46696164074179003 |0.0 |0.0  |0.0   |0.5  |17.5  |extra              |\n",
            "|69392|0.49859493889785567|0.02646821584755242 |0.0 |0.5  |0.5   |0.5  |0.5   |mta_tax            |\n",
            "|69392|1.8591215125662932 |2.489284671768923   |0.0 |0.0  |1.44  |2.45 |100.0 |tip_amount         |\n",
            "|69392|0.34027092460226877|1.5299434538220202  |0.0 |0.0  |0.0   |0.0  |53.52 |tolls_amount       |\n",
            "|69392|0.29996973714543845|0.003012983792684442|0.0 |0.3  |0.3   |0.3  |0.3   |imp_surcharge      |\n",
            "|69392|163.02464261009914 |66.70180188823299   |4.0 |114.0|162.0 |233.0|265.0 |pickup_location_id |\n",
            "|69392|161.10009799400507 |70.62615862790659   |1.0 |107.0|162.0 |233.0|265.0 |dropoff_location_id|\n",
            "|69392|17.68177887940973  |68.4108102113426    |1.0 |7.0  |11.0  |18.0 |1440.0|trip_duration_min  |\n",
            "|69392|15.92654369379768  |13.903907275237561  |0.01|8.45 |11.5  |17.46|378.02|computed_total_cost|\n",
            "+-----+-------------------+--------------------+----+-----+------+-----+------+-------------------+\n",
            "\n"
          ]
        }
      ]
    },
    {
      "cell_type": "code",
      "source": [
        "categorical_cols = [f.name for f in trip_df.schema.fields if isinstance(f.dataType, StringType)]\n",
        "for col_name in categorical_cols:\n",
        "    print(f\"\\n-> Top 5 Values for Categorical Column: {col_name}\")\n",
        "    trip_df.groupBy(col_name).count().orderBy(\"count\", ascending=False).show(5, truncate=False)\n"
      ],
      "metadata": {
        "colab": {
          "base_uri": "https://localhost:8080/"
        },
        "id": "ShNighDmmYH_",
        "outputId": "be930068-6963-4ea4-fa8a-b80cb85dd0c2"
      },
      "execution_count": null,
      "outputs": [
        {
          "output_type": "stream",
          "name": "stdout",
          "text": [
            "\n",
            "-> Top 5 Values for Categorical Column: pickup_datetime\n",
            "+---------------+-----+\n",
            "|pickup_datetime|count|\n",
            "+---------------+-----+\n",
            "|3/23/2018 17:56|5    |\n",
            "|3/20/2018 17:11|5    |\n",
            "|3/3/2018 12:03 |4    |\n",
            "|11/8/2018 22:38|4    |\n",
            "|4/18/2018 20:17|4    |\n",
            "+---------------+-----+\n",
            "only showing top 5 rows\n",
            "\n",
            "\n",
            "-> Top 5 Values for Categorical Column: dropoff_datetime\n",
            "+----------------+-----+\n",
            "|dropoff_datetime|count|\n",
            "+----------------+-----+\n",
            "|3/10/2018 11:04 |5    |\n",
            "|3/3/2018 15:30  |4    |\n",
            "|3/31/2018 19:07 |4    |\n",
            "|11/8/2018 23:05 |4    |\n",
            "|10/16/2018 19:54|4    |\n",
            "+----------------+-----+\n",
            "only showing top 5 rows\n",
            "\n",
            "\n",
            "-> Top 5 Values for Categorical Column: pickup_zone\n",
            "+----------------------------+-----+\n",
            "|pickup_zone                 |count|\n",
            "+----------------------------+-----+\n",
            "|Upper East Side South       |2872 |\n",
            "|Midtown Center              |2589 |\n",
            "|Upper East Side North       |2551 |\n",
            "|Penn Station/Madison Sq West|2398 |\n",
            "|Midtown East                |2381 |\n",
            "+----------------------------+-----+\n",
            "only showing top 5 rows\n",
            "\n",
            "\n",
            "-> Top 5 Values for Categorical Column: pickup_borough\n",
            "+--------------+-----+\n",
            "|pickup_borough|count|\n",
            "+--------------+-----+\n",
            "|Manhattan     |63045|\n",
            "|Queens        |4336 |\n",
            "|NULL          |1056 |\n",
            "|Brooklyn      |875  |\n",
            "|Bronx         |80   |\n",
            "+--------------+-----+\n",
            "\n",
            "\n",
            "-> Top 5 Values for Categorical Column: dropoff_zone\n",
            "+-------------------------+-----+\n",
            "|dropoff_zone             |count|\n",
            "+-------------------------+-----+\n",
            "|Upper East Side North    |2671 |\n",
            "|Midtown Center           |2669 |\n",
            "|Upper East Side South    |2540 |\n",
            "|Murray Hill              |2190 |\n",
            "|Times Sq/Theatre District|2117 |\n",
            "+-------------------------+-----+\n",
            "only showing top 5 rows\n",
            "\n",
            "\n",
            "-> Top 5 Values for Categorical Column: dropoff_borough\n",
            "+---------------+-----+\n",
            "|dropoff_borough|count|\n",
            "+---------------+-----+\n",
            "|Manhattan      |61557|\n",
            "|Queens         |3194 |\n",
            "|Brooklyn       |3002 |\n",
            "|NULL           |1073 |\n",
            "|Bronx          |430  |\n",
            "+---------------+-----+\n",
            "only showing top 5 rows\n",
            "\n"
          ]
        }
      ]
    },
    {
      "cell_type": "markdown",
      "source": [
        "## Final Cleaning"
      ],
      "metadata": {
        "id": "nT73TDXmn3Je"
      }
    },
    {
      "cell_type": "code",
      "source": [
        "from pyspark.sql import functions as F\n",
        "\n",
        "def clean_taxi_data_spark(df):\n",
        "    # Drop rows where both pickup and dropoff location ids are null\n",
        "    df = df.filter(~(F.col('pickup_location_id').isNull() & F.col('dropoff_location_id').isNull()))\n",
        "\n",
        "    # Fill missing zone and borough names — keep IDs as they are\n",
        "    df = df.fillna({\n",
        "        'pickup_zone': 'Unknown (Unmatched ID)',\n",
        "        'dropoff_zone': 'Unknown (Unmatched ID)',\n",
        "        'pickup_borough': 'Unknown (Unmatched ID)',\n",
        "        'dropoff_borough': 'Unknown (Unmatched ID)'\n",
        "    })\n",
        "\n",
        "    # Remove trips with zero or negative trip duration\n",
        "    if 'trip_duration_min' in df.columns:\n",
        "        df = df.filter(F.col('trip_duration_min') > 0)\n",
        "\n",
        "    # Clip negative monetary and distance columns to zero\n",
        "    monetary_cols = ['fare_amount', 'tip_amount', 'computed_total_cost']\n",
        "    distance_cols = ['trip_distance']\n",
        "\n",
        "    for col in monetary_cols + distance_cols:\n",
        "        if col in df.columns:\n",
        "            df = df.withColumn(col, F.when(F.col(col) < 0, 0).otherwise(F.col(col)))\n",
        "\n",
        "    # Remove outliers using IQR method (1.5 * IQR)\n",
        "    numeric_cols = [f.name for f in df.schema.fields if str(f.dataType) in ['IntegerType', 'DoubleType', 'FloatType', 'LongType', 'DecimalType']]\n",
        "\n",
        "    for col in numeric_cols:\n",
        "        quantiles = df.approxQuantile(col, [0.25, 0.75], 0.05)\n",
        "        if len(quantiles) == 2:\n",
        "            Q1, Q3 = quantiles\n",
        "            IQR = Q3 - Q1\n",
        "            lower_bound = Q1 - 1.5 * IQR\n",
        "            upper_bound = Q3 + 1.5 * IQR\n",
        "            df = df.filter((F.col(col) >= lower_bound) & (F.col(col) <= upper_bound))\n",
        "\n",
        "    # Sanity check: positive speed only, cap at 80 mph\n",
        "    if 'speed_mph' in df.columns:\n",
        "        df = df.filter(F.col('speed_mph') > 0)\n",
        "        df = df.withColumn('speed_mph', F.when(F.col('speed_mph') > 80, 80).otherwise(F.col('speed_mph')))\n",
        "\n",
        "    # Tip % sanity check: tip_amount / fare_amount ∈ [0, 1]\n",
        "    if 'tip_amount' in df.columns and 'fare_amount' in df.columns:\n",
        "        df = df.withColumn('tip_pct', F.when(F.col('fare_amount') == 0, None).otherwise(F.col('tip_amount') / F.col('fare_amount')))\n",
        "        df = df.filter((F.col('tip_pct') >= 0) & (F.col('tip_pct') <= 1))\n",
        "\n",
        "    # Fare per mile sanity check: <= 50\n",
        "    if 'fare_amount' in df.columns and 'trip_distance' in df.columns:\n",
        "        df = df.withColumn('fare_per_mile', F.when(F.col('trip_distance') == 0, None).otherwise(F.col('fare_amount') / F.col('trip_distance')))\n",
        "        df = df.filter((F.col('fare_per_mile') <= 50) | (F.col('fare_per_mile').isNull()))\n",
        "\n",
        "    # Show summary statistics\n",
        "    print(\"Basic summary stats:\")\n",
        "    df.describe().show()\n",
        "\n",
        "    # Show missing values per column\n",
        "    print(\"Missing values per column:\")\n",
        "    df.select([F.count(F.when(F.col(c).isNull(), c)).alias(c) for c in df.columns]).show()\n",
        "\n",
        "    # Save cleaned data to CSV\n",
        "    df.write.mode('overwrite').option('header', True).csv('cleaned_taxi_data_spark.csv')\n",
        "\n",
        "    return df\n"
      ],
      "metadata": {
        "id": "uuYvDgREs9J5"
      },
      "execution_count": null,
      "outputs": []
    },
    {
      "cell_type": "code",
      "source": [
        "cleaned_df = clean_taxi_data_spark(trip_df)"
      ],
      "metadata": {
        "colab": {
          "base_uri": "https://localhost:8080/"
        },
        "id": "tyeweo0gp7GZ",
        "outputId": "77268098-d811-4390-fece-a2634a6fdbc1"
      },
      "execution_count": null,
      "outputs": [
        {
          "output_type": "stream",
          "name": "stdout",
          "text": [
            "Basic summary stats:\n",
            "+-------+------------------+---------------+----------------+------------------+------------------+-------------------+------------------+------------------+-------------------+--------------------+------------------+-------------------+--------------------+------------------+-------------------+------------------+-------------------+--------------+--------------------+--------------------+--------------------+-------------------+--------------------+\n",
            "|summary|         vendor_id|pickup_datetime|dropoff_datetime|   passenger_count|     trip_distance|          rate_code|      payment_type|       fare_amount|              extra|             mta_tax|        tip_amount|       tolls_amount|       imp_surcharge|pickup_location_id|dropoff_location_id| trip_duration_min|computed_total_cost|   pickup_zone|      pickup_borough|        dropoff_zone|     dropoff_borough|            tip_pct|       fare_per_mile|\n",
            "+-------+------------------+---------------+----------------+------------------+------------------+-------------------+------------------+------------------+-------------------+--------------------+------------------+-------------------+--------------------+------------------+-------------------+------------------+-------------------+--------------+--------------------+--------------------+--------------------+-------------------+--------------------+\n",
            "|  count|             69281|          69281|           69281|             69281|             69281|              69281|             69281|             69281|              69281|               69281|             69281|              69281|               69281|             69281|              69281|             69281|              69281|         69281|               69281|               69281|               69281|              69281|               69281|\n",
            "|   mean|1.5949683174319078|           NULL|            NULL|1.6089404021304543|2.9461982361686383|  1.034785872028406|1.3086704868578687| 12.87727284536886|0.33200776547682626| 0.49865042363707224|1.8483229168170234|0.33963799598736494|  0.2999696886591756|163.01428963207806| 161.10100893462854|17.699398103376105| 15.895891947287254|          NULL|                NULL|                NULL|                NULL|0.14681635255004416|   6.053850113364934|\n",
            "| stddev|0.5143355704535004|           NULL|            NULL|1.2359371900715501| 3.784255109189846|0.24965813948481858|0.4753156487160151|11.121681893355936|0.46497604050341873|0.025941791357361972|2.3984208106793274| 1.5287547486180861|0.003015396275227...| 66.69933354149566|  70.63388360399836| 68.46278907724046| 13.806654922596596|          NULL|                NULL|                NULL|                NULL|0.11925889815432347|  2.7494972954635943|\n",
            "|    min|                 1|  1/1/2018 0:19|   1/1/2018 0:28|                 1|              0.07|                  1|                 1|              0.01|                0.0|                 0.0|               0.0|                0.0|                 0.0|                 4|                  1|               1.0|               0.01| Alphabet City|               Bronx|Allerton/Pelham G...|               Bronx|                0.0|0.002631578947368...|\n",
            "|    max|                 4|  9/9/2018 9:37|   9/9/2018 9:50|                 6|             84.38|                  5|                 4|             326.0|               17.5|                 0.5|              42.5|              53.52|                 0.3|               265|                265|            1440.0|             378.02|Yorkville West|Unknown (Unmatche...|      Yorkville West|Unknown (Unmatche...|                1.0|                50.0|\n",
            "+-------+------------------+---------------+----------------+------------------+------------------+-------------------+------------------+------------------+-------------------+--------------------+------------------+-------------------+--------------------+------------------+-------------------+------------------+-------------------+--------------+--------------------+--------------------+--------------------+-------------------+--------------------+\n",
            "\n",
            "Missing values per column:\n",
            "+---------+---------------+----------------+---------------+-------------+---------+------------+-----------+-----+-------+----------+------------+-------------+------------------+-------------------+-----------------+-------------------+-----------+--------------+------------+---------------+-------+-------------+\n",
            "|vendor_id|pickup_datetime|dropoff_datetime|passenger_count|trip_distance|rate_code|payment_type|fare_amount|extra|mta_tax|tip_amount|tolls_amount|imp_surcharge|pickup_location_id|dropoff_location_id|trip_duration_min|computed_total_cost|pickup_zone|pickup_borough|dropoff_zone|dropoff_borough|tip_pct|fare_per_mile|\n",
            "+---------+---------------+----------------+---------------+-------------+---------+------------+-----------+-----+-------+----------+------------+-------------+------------------+-------------------+-----------------+-------------------+-----------+--------------+------------+---------------+-------+-------------+\n",
            "|        0|              0|               0|              0|            0|        0|           0|          0|    0|      0|         0|           0|            0|                 0|                  0|                0|                  0|          0|             0|           0|              0|      0|            0|\n",
            "+---------+---------------+----------------+---------------+-------------+---------+------------+-----------+-----+-------+----------+------------+-------------+------------------+-------------------+-----------------+-------------------+-----------+--------------+------------+---------------+-------+-------------+\n",
            "\n"
          ]
        }
      ]
    },
    {
      "cell_type": "code",
      "source": [
        "cleaned_df.show()"
      ],
      "metadata": {
        "colab": {
          "base_uri": "https://localhost:8080/"
        },
        "id": "oFMr4x6POnvy",
        "outputId": "0c4a23f5-ff21-4e4f-b4ce-95dcb0e9d267"
      },
      "execution_count": null,
      "outputs": [
        {
          "output_type": "stream",
          "name": "stdout",
          "text": [
            "+---------+----------------+----------------+---------------+-------------+---------+------------+-----------+-----+-------+----------+------------+-------------+------------------+-------------------+-----------------+-------------------+--------------------+--------------------+--------------------+--------------------+--------------------+------------------+\n",
            "|vendor_id| pickup_datetime|dropoff_datetime|passenger_count|trip_distance|rate_code|payment_type|fare_amount|extra|mta_tax|tip_amount|tolls_amount|imp_surcharge|pickup_location_id|dropoff_location_id|trip_duration_min|computed_total_cost|         pickup_zone|      pickup_borough|        dropoff_zone|     dropoff_borough|             tip_pct|     fare_per_mile|\n",
            "+---------+----------------+----------------+---------------+-------------+---------+------------+-----------+-----+-------+----------+------------+-------------+------------------+-------------------+-----------------+-------------------+--------------------+--------------------+--------------------+--------------------+--------------------+------------------+\n",
            "|        2| 3/21/2018 13:02| 3/21/2018 13:21|              1|         4.42|        1|           1|       16.5|  0.0|    0.5|      3.46|         0.0|          0.3|               113|                 49|             19.0|              20.46|Greenwich Village...|           Manhattan|        Clinton Hill|            Brooklyn|  0.2096969696969697| 3.733031674208145|\n",
            "|        1|  6/15/2018 6:26|  6/15/2018 6:34|              1|          1.1|        1|           1|        7.0|  0.0|    0.5|       2.3|         0.0|          0.3|                48|                162|              8.0|                9.8|        Clinton East|           Manhattan|        Midtown East|           Manhattan| 0.32857142857142857| 6.363636363636363|\n",
            "|        2|   2/8/2018 9:41|  2/8/2018 10:14|              2|         5.79|        1|           1|       25.5|  0.0|    0.5|       2.0|         0.0|          0.3|               238|                137|             33.0|               28.0|Upper West Side N...|           Manhattan|            Kips Bay|           Manhattan|  0.0784313725490196| 4.404145077720207|\n",
            "|        2| 4/30/2018 13:22| 4/30/2018 13:35|              1|          1.4|        1|           1|        9.5|  0.0|    0.5|      2.06|         0.0|          0.3|                68|                234|             13.0|              12.06|        East Chelsea|           Manhattan|            Union Sq|           Manhattan|  0.2168421052631579|6.7857142857142865|\n",
            "|        1| 3/21/2018 23:17| 3/21/2018 23:42|              1|          8.9|        1|           1|       26.5|  0.5|    0.5|      5.55|         0.0|          0.3|               211|                 89|             25.0|              33.05|                SoHo|           Manhattan|Flatbush/Ditmas Park|            Brooklyn| 0.20943396226415092|2.9775280898876404|\n",
            "|        1| 12/5/2018 13:44| 12/5/2018 14:01|              2|          6.9|        1|           2|       21.5|  0.0|    0.5|       0.0|         0.0|          0.3|               140|                 66|             17.0|               22.0|     Lenox Hill East|           Manhattan|  DUMBO/Vinegar Hill|            Brooklyn|                 0.0| 3.115942028985507|\n",
            "|        2| 2/19/2018 14:54| 2/19/2018 15:03|              1|         1.42|        1|           1|        8.5|  0.0|    0.5|      1.86|         0.0|          0.3|               113|                231|              9.0|              10.86|Greenwich Village...|           Manhattan|TriBeCa/Civic Center|           Manhattan| 0.21882352941176472| 5.985915492957747|\n",
            "|        2| 12/6/2018 17:01| 12/6/2018 17:27|              1|          4.2|        1|           1|       19.0|  1.0|    0.5|       3.2|         0.0|          0.3|               246|                166|             26.0|               23.7|West Chelsea/Huds...|           Manhattan| Morningside Heights|           Manhattan| 0.16842105263157894| 4.523809523809524|\n",
            "|        1|  5/10/2018 8:42|  5/10/2018 8:49|              1|          0.8|        1|           1|        6.0|  0.0|    0.5|       1.0|         0.0|          0.3|               137|                107|              7.0|                7.5|            Kips Bay|           Manhattan|            Gramercy|           Manhattan| 0.16666666666666666|               7.5|\n",
            "|        1| 5/23/2018 21:18| 5/23/2018 21:33|              1|          3.1|        1|           1|       12.5|  0.5|    0.5|      2.75|         0.0|          0.3|               236|                137|             15.0|              16.25|Upper East Side N...|           Manhattan|            Kips Bay|           Manhattan|                0.22| 4.032258064516129|\n",
            "|        4|10/20/2018 10:53|10/20/2018 10:56|              1|         0.36|        1|           2|        4.0|  0.0|    0.5|       0.0|         0.0|          0.3|                75|                 75|              3.0|                4.5|   East Harlem South|           Manhattan|   East Harlem South|           Manhattan|                 0.0| 11.11111111111111|\n",
            "|        1| 3/29/2018 10:08| 3/29/2018 10:17|              1|          1.6|        1|           1|        8.5|  0.0|    0.5|       2.3|         0.0|          0.3|               140|                236|              9.0|               11.3|     Lenox Hill East|           Manhattan|Upper East Side N...|           Manhattan| 0.27058823529411763|            5.3125|\n",
            "|        1|  1/5/2018 10:49|  1/5/2018 11:04|              1|          3.5|        1|           1|       14.5|  0.5|    0.5|      0.23|         0.0|          0.3|               211|                 49|             15.0|              15.73|                SoHo|           Manhattan|        Clinton Hill|            Brooklyn|0.015862068965517243| 4.142857142857143|\n",
            "|        2| 2/22/2018 18:58| 2/22/2018 19:23|              1|        11.88|        1|           1|       33.5|  1.0|    0.5|      8.21|        5.76|          0.3|               138|                127|             25.0|              48.97|   LaGuardia Airport|              Queens|              Inwood|           Manhattan| 0.24507462686567166|2.8198653198653196|\n",
            "|        1|  3/8/2018 11:43|  3/8/2018 11:46|              1|          0.4|        1|           1|        4.0|  0.0|    0.5|       1.2|         0.0|          0.3|               141|                237|              3.0|                5.7|     Lenox Hill West|           Manhattan|Upper East Side S...|           Manhattan|                 0.3|              10.0|\n",
            "|        2|10/12/2018 19:08|10/12/2018 19:24|              1|         1.09|        1|           2|       10.5|  1.0|    0.5|       0.0|         0.0|          0.3|               264|                264|             16.0|               12.0|Unknown (Unmatche...|Unknown (Unmatche...|Unknown (Unmatche...|Unknown (Unmatche...|                 0.0| 9.633027522935778|\n",
            "|        2| 3/15/2018 16:50| 3/15/2018 17:00|              4|         1.43|        1|           2|        8.0|  1.0|    0.5|       0.0|         0.0|          0.3|               100|                 90|             10.0|                9.5|    Garment District|           Manhattan|            Flatiron|           Manhattan|                 0.0| 5.594405594405595|\n",
            "|        1| 8/28/2018 12:09| 8/28/2018 12:41|              1|          1.7|        1|           2|       18.5|  0.0|    0.5|       0.0|         0.0|          0.3|               162|                162|             32.0|               19.0|        Midtown East|           Manhattan|        Midtown East|           Manhattan|                 0.0|10.882352941176471|\n",
            "|        1|  8/14/2018 7:31|  8/14/2018 7:50|              1|          7.9|        1|           1|       24.5|  0.0|    0.5|       3.8|         0.0|          0.3|               236|                 88|             19.0|               28.8|Upper East Side N...|           Manhattan|Financial Distric...|           Manhattan| 0.15510204081632653|  3.10126582278481|\n",
            "|        2|10/30/2018 23:20|10/30/2018 23:31|              2|         1.71|        1|           1|        9.0|  0.5|    0.5|      2.06|         0.0|          0.3|                79|                186|             11.0|              12.06|        East Village|           Manhattan|Penn Station/Madi...|           Manhattan|  0.2288888888888889|5.2631578947368425|\n",
            "+---------+----------------+----------------+---------------+-------------+---------+------------+-----------+-----+-------+----------+------------+-------------+------------------+-------------------+-----------------+-------------------+--------------------+--------------------+--------------------+--------------------+--------------------+------------------+\n",
            "only showing top 20 rows\n",
            "\n"
          ]
        }
      ]
    },
    {
      "cell_type": "markdown",
      "source": [
        "# Analytical Queries"
      ],
      "metadata": {
        "id": "lgfSH0zRMOdN"
      }
    },
    {
      "cell_type": "markdown",
      "source": [
        "## What is the most common payment type used per time of day (morning, afternoon, evening)?"
      ],
      "metadata": {
        "id": "Iy-ScBKdMRd8"
      }
    },
    {
      "cell_type": "code",
      "source": [
        "from pyspark.sql import functions as F\n",
        "from pyspark.sql.window import Window # Import the Window class\n",
        "\n",
        "df=cleaned_df\n",
        "# define time of day categories based on pickup_datetime hour\n",
        "df = df.withColumn('hour', F.hour(F.to_timestamp('pickup_datetime', 'M/d/yyyy H:mm')))\n",
        "\n",
        "df = df.withColumn('time_of_day',\n",
        "                   F.when((F.col('hour') >= 5) & (F.col('hour') < 12), 'morning')\n",
        "                    .when((F.col('hour') >= 12) & (F.col('hour') < 17), 'afternoon')\n",
        "                    .when((F.col('hour') >= 17) & (F.col('hour') <= 21), 'evening')\n",
        "                    .otherwise('night'))\n",
        "\n",
        "# Find the most common payment_type per time_of_day\n",
        "payment_mode_per_time = df.groupBy('time_of_day', 'payment_type') \\\n",
        "                          .count() \\\n",
        "                          .withColumn('rank', F.row_number().over(\n",
        "                              Window.partitionBy('time_of_day').orderBy(F.desc('count'))\n",
        "                          )) \\\n",
        "                          .filter(F.col('rank') == 1) \\\n",
        "                          .select('time_of_day', 'payment_type', 'count')\n",
        "\n",
        "payment_mode_per_time.show()"
      ],
      "metadata": {
        "colab": {
          "base_uri": "https://localhost:8080/"
        },
        "id": "M4gxcYy1uvyV",
        "outputId": "b3f4d621-13d5-4cc7-cfc7-b4653aa36a84"
      },
      "execution_count": null,
      "outputs": [
        {
          "output_type": "stream",
          "name": "stdout",
          "text": [
            "+-----------+------------+-----+\n",
            "|time_of_day|payment_type|count|\n",
            "+-----------+------------+-----+\n",
            "|  afternoon|           1|12097|\n",
            "|    evening|           1|14652|\n",
            "|    morning|           1|12578|\n",
            "|      night|           1| 8943|\n",
            "+-----------+------------+-----+\n",
            "\n"
          ]
        }
      ]
    },
    {
      "cell_type": "markdown",
      "source": [
        "## Which boroughs generate the highest total revenue based on pickup locations, and how do they compare in terms of trip volume?"
      ],
      "metadata": {
        "id": "jewwy_XjMWzO"
      }
    },
    {
      "cell_type": "code",
      "source": [
        "borough_revenue_volume = df.filter(F.col('pickup_borough') != 'Unknown (Unmatched ID)') \\\n",
        "                           .groupBy('pickup_borough') \\\n",
        "                           .agg(\n",
        "                               F.sum('fare_amount').alias('total_revenue'),\n",
        "                               F.count('*').alias('trip_volume')\n",
        "                           ) \\\n",
        "                           .orderBy(F.desc('total_revenue'))\n",
        "\n",
        "borough_revenue_volume.show()"
      ],
      "metadata": {
        "colab": {
          "base_uri": "https://localhost:8080/"
        },
        "id": "1UGOUQuvvSqF",
        "outputId": "04d9d685-81ba-401b-be0c-1a5e7876cb0b"
      },
      "execution_count": null,
      "outputs": [
        {
          "output_type": "stream",
          "name": "stdout",
          "text": [
            "+--------------+------------------+-----------+\n",
            "|pickup_borough|     total_revenue|trip_volume|\n",
            "+--------------+------------------+-----------+\n",
            "|     Manhattan| 707283.3600000001|      62951|\n",
            "|        Queens|155537.84999999998|       4328|\n",
            "|      Brooklyn|          13191.89|        872|\n",
            "|         Bronx|           1863.74|         78|\n",
            "+--------------+------------------+-----------+\n",
            "\n"
          ]
        }
      ]
    },
    {
      "cell_type": "markdown",
      "source": [
        "## What is the average tip amount per passenger count?"
      ],
      "metadata": {
        "id": "w4DUpYfOMhCN"
      }
    },
    {
      "cell_type": "code",
      "source": [
        "avg_tip_per_passenger = df.groupBy('passenger_count') \\\n",
        "                          .agg(F.avg('tip_amount').alias('avg_tip_amount')) \\\n",
        "                          .orderBy('passenger_count')\n",
        "\n",
        "avg_tip_per_passenger.show()\n"
      ],
      "metadata": {
        "colab": {
          "base_uri": "https://localhost:8080/"
        },
        "id": "9gq2Fqn9vwEm",
        "outputId": "07401e0f-bda7-4955-befd-a5a7ab1e5a15"
      },
      "execution_count": null,
      "outputs": [
        {
          "output_type": "stream",
          "name": "stdout",
          "text": [
            "+---------------+------------------+\n",
            "|passenger_count|    avg_tip_amount|\n",
            "+---------------+------------------+\n",
            "|              1| 1.854670407014162|\n",
            "|              2|  1.84910281469898|\n",
            "|              3|1.7760646057658906|\n",
            "|              4|1.6726237623762388|\n",
            "|              5|1.8401287688442214|\n",
            "|              6|1.9345119305856822|\n",
            "+---------------+------------------+\n",
            "\n"
          ]
        }
      ]
    },
    {
      "cell_type": "markdown",
      "source": [
        "## What are the best 5 locations for drivers to pick up passengers from and at which time of the day?"
      ],
      "metadata": {
        "id": "sclpX1OKMmCk"
      }
    },
    {
      "cell_type": "code",
      "source": [
        "# Count trips by pickup_zone and time_of_day\n",
        "pickup_zone_time_counts = df.groupBy('pickup_zone', 'time_of_day') \\\n",
        "                           .count() \\\n",
        "                           .orderBy(F.desc('count'))\n",
        "\n",
        "# Find top 5 pickup_zone + time_of_day combos by trip count\n",
        "top_5_pickup_locations = pickup_zone_time_counts.limit(5)\n",
        "top_5_pickup_locations.show()\n"
      ],
      "metadata": {
        "colab": {
          "base_uri": "https://localhost:8080/"
        },
        "id": "W6So28tNwOYr",
        "outputId": "a30ac450-f5b3-422c-d3df-3c021352a028"
      },
      "execution_count": null,
      "outputs": [
        {
          "output_type": "stream",
          "name": "stdout",
          "text": [
            "+--------------------+-----------+-----+\n",
            "|         pickup_zone|time_of_day|count|\n",
            "+--------------------+-----------+-----+\n",
            "|Upper East Side S...|  afternoon|  962|\n",
            "|Upper East Side N...|  afternoon|  905|\n",
            "|        Midtown East|    evening|  849|\n",
            "|Upper East Side S...|    evening|  847|\n",
            "|      Midtown Center|    evening|  832|\n",
            "+--------------------+-----------+-----+\n",
            "\n"
          ]
        }
      ]
    },
    {
      "cell_type": "markdown",
      "source": [
        "## What are the top 5 longest trips recorded in the dataset and display their corresponding trip  duration, fare, pickup and dropoff zones, and payment type. Comment on whether these trips also resulted in high fares or if any anomalies are observed."
      ],
      "metadata": {
        "id": "3A0TKWeELdjX"
      }
    },
    {
      "cell_type": "code",
      "source": [
        "top_5_longest_trips = df.select('trip_duration_min', 'fare_amount', 'pickup_zone', 'dropoff_zone', 'payment_type') \\\n",
        "                        .orderBy(F.desc('trip_duration_min')) \\\n",
        "                        .limit(5)\n",
        "\n",
        "top_5_longest_trips.show()"
      ],
      "metadata": {
        "colab": {
          "base_uri": "https://localhost:8080/"
        },
        "id": "_a5kxICDwc_n",
        "outputId": "d5070bf7-850e-4f5e-f4ac-3f2d19a7e912"
      },
      "execution_count": null,
      "outputs": [
        {
          "output_type": "stream",
          "name": "stdout",
          "text": [
            "+-----------------+-----------+--------------------+--------------------+------------+\n",
            "|trip_duration_min|fare_amount|         pickup_zone|        dropoff_zone|payment_type|\n",
            "+-----------------+-----------+--------------------+--------------------+------------+\n",
            "|           1440.0|       12.0|            Gramercy|     Lower East Side|           1|\n",
            "|           1440.0|        6.5|      Yorkville West|Upper West Side S...|           2|\n",
            "|           1439.0|        8.5|Penn Station/Madi...|Stuy Town/Peter C...|           1|\n",
            "|           1439.0|       10.0|Unknown (Unmatche...|Unknown (Unmatche...|           1|\n",
            "|           1439.0|       19.0|         Murray Hill|Williamsburg (Sou...|           2|\n",
            "+-----------------+-----------+--------------------+--------------------+------------+\n",
            "\n"
          ]
        }
      ]
    },
    {
      "cell_type": "code",
      "source": [
        "top_5_longest_trips = df.select('trip_duration_min', 'fare_amount', 'pickup_zone', 'dropoff_zone', 'payment_type') \\\n",
        "                        .orderBy(F.desc('trip_duration_min')) \\\n",
        "                        .limit(5)\n",
        "\n",
        "top_5_longest_trips.show()"
      ],
      "metadata": {
        "colab": {
          "base_uri": "https://localhost:8080/"
        },
        "id": "bwE3rOQMwfHw",
        "outputId": "5b06bbfd-0fca-46f1-cd48-1c72743fa797"
      },
      "execution_count": null,
      "outputs": [
        {
          "output_type": "stream",
          "name": "stdout",
          "text": [
            "+-----------------+-----------+--------------------+--------------------+------------+\n",
            "|trip_duration_min|fare_amount|         pickup_zone|        dropoff_zone|payment_type|\n",
            "+-----------------+-----------+--------------------+--------------------+------------+\n",
            "|           1440.0|       12.0|            Gramercy|     Lower East Side|           1|\n",
            "|           1440.0|        6.5|      Yorkville West|Upper West Side S...|           2|\n",
            "|           1439.0|        8.5|Penn Station/Madi...|Stuy Town/Peter C...|           1|\n",
            "|           1439.0|       10.0|Unknown (Unmatche...|Unknown (Unmatche...|           1|\n",
            "|           1439.0|       19.0|         Murray Hill|Williamsburg (Sou...|           2|\n",
            "+-----------------+-----------+--------------------+--------------------+------------+\n",
            "\n"
          ]
        }
      ]
    },
    {
      "cell_type": "markdown",
      "source": [
        "## which pickup and drop-off borough combinations represent the most frequent inter-borough travel flows? Present the top routes by trip count, and optionally include revenue per route."
      ],
      "metadata": {
        "id": "Yr1_BLOtM48y"
      }
    },
    {
      "cell_type": "code",
      "source": [
        "routes = df.filter(\n",
        "    (F.col('pickup_borough') != 'Unknown (Unmatched ID)') &\n",
        "    (F.col('dropoff_borough') != 'Unknown (Unmatched ID)') &\n",
        "    (F.col('dropoff_borough') != F.col('pickup_borough'))\n",
        ") \\\n",
        ".groupBy('pickup_borough', 'dropoff_borough') \\\n",
        ".agg(\n",
        "    F.count('*').alias('trip_count'),\n",
        "    F.sum('fare_amount').alias('total_revenue')\n",
        ") \\\n",
        ".orderBy(F.desc('trip_count'))\n",
        "\n",
        "routes.show(10)"
      ],
      "metadata": {
        "colab": {
          "base_uri": "https://localhost:8080/"
        },
        "id": "kGXRPz75wh-T",
        "outputId": "099e97db-3341-4ec5-a6b3-ede88ddd68f0"
      },
      "execution_count": null,
      "outputs": [
        {
          "output_type": "stream",
          "name": "stdout",
          "text": [
            "+--------------+---------------+----------+------------------+\n",
            "|pickup_borough|dropoff_borough|trip_count|     total_revenue|\n",
            "+--------------+---------------+----------+------------------+\n",
            "|        Queens|      Manhattan|      2536|100647.06999999999|\n",
            "|     Manhattan|         Queens|      2111| 68931.68000000001|\n",
            "|     Manhattan|       Brooklyn|      1832|          42364.95|\n",
            "|        Queens|       Brooklyn|       598|23702.870000000003|\n",
            "|     Manhattan|          Bronx|       311| 8635.099999999999|\n",
            "|      Brooklyn|      Manhattan|       264|           5396.84|\n",
            "|     Manhattan|            EWR|       118|            8390.0|\n",
            "|        Queens|          Bronx|        78|            3467.0|\n",
            "|      Brooklyn|         Queens|        42|           1320.35|\n",
            "|         Bronx|      Manhattan|        41|           1025.74|\n",
            "+--------------+---------------+----------+------------------+\n",
            "only showing top 10 rows\n",
            "\n"
          ]
        }
      ]
    },
    {
      "cell_type": "markdown",
      "source": [
        "# SparkML Task: Trip Profiling: Predict Likelihood of High Tipping"
      ],
      "metadata": {
        "id": "idIZfl8EN-xk"
      }
    },
    {
      "cell_type": "markdown",
      "source": [
        "## Preparing Data for Model"
      ],
      "metadata": {
        "id": "VIiF7I6aODge"
      }
    },
    {
      "cell_type": "code",
      "source": [
        "from pyspark.ml.feature import VectorAssembler\n",
        "from pyspark.ml.feature import StandardScaler\n",
        "from pyspark.ml.feature import OneHotEncoder, StringIndexer, VectorAssembler\n",
        "from pyspark.sql.functions import hour\n",
        "from pyspark.sql.types import DoubleType\n",
        "\n",
        "\n",
        "# Create the binary target column 'high_tip'\n",
        "cleaned_df = cleaned_df.withColumn('high_tip',\n",
        "                   when(col('tip_amount') > 0.15 * col('fare_amount'), 1)\n",
        "                   .otherwise(0))"
      ],
      "metadata": {
        "id": "4QOLHbm5PEpp"
      },
      "execution_count": null,
      "outputs": []
    },
    {
      "cell_type": "code",
      "source": [
        "# Select numerical and categorical features\n",
        "numerical_features = [ 'passenger_count', 'trip_distance', 'rate_code', 'payment_type', 'fare_amount', 'tip_amount', 'tolls_amount', 'trip_duration_min', 'computed_total_cost',  'tip_pct', 'fare_per_mile']\n",
        "categorical_features = ['pickup_zone',    'pickup_borough',      'dropoff_zone',    'dropoff_borough']\n"
      ],
      "metadata": {
        "id": "VuBacmraPv9T"
      },
      "execution_count": null,
      "outputs": []
    },
    {
      "cell_type": "code",
      "source": [
        "# Use StringIndexer and OneHotEncoder for categorical features\n",
        "# HandleInvalid=\"keep\" will keep categories not seen during fitting (e.g., Unknown)\n",
        "indexers = [StringIndexer(inputCol=col, outputCol=col+\"_indexed\", handleInvalid=\"keep\") for col in categorical_features]\n",
        "encoders = [OneHotEncoder(inputCol=indexer.getOutputCol(), outputCol=indexer.getOutputCol()+\"_encoded\") for indexer in indexers]"
      ],
      "metadata": {
        "id": "stphk4QWP0nM"
      },
      "execution_count": null,
      "outputs": []
    },
    {
      "source": [
        "# Create a pipeline to apply indexing and encoding\n",
        "from pyspark.ml import Pipeline\n",
        "from pyspark.ml.feature import StandardScaler, VectorAssembler\n",
        "\n",
        "# Assuming indexers, encoders, and final_numeric_features are defined as before\n",
        "\n",
        "# Identify numerical columns for standardization\n",
        "cols_to_standardize = numerical_features\n",
        "\n",
        "# Create a VectorAssembler for the numerical columns *before* standardization\n",
        "# This is needed because StandardScaler expects a vector input\n",
        "assembler_for_scaling = VectorAssembler(inputCols=cols_to_standardize, outputCol=\"numerical_features_vector\", handleInvalid=\"skip\")\n",
        "\n",
        "# Create the StandardScaler\n",
        "scaler = StandardScaler(inputCol=\"numerical_features_vector\", outputCol=\"scaled_numerical_features\", withStd=True, withMean=True)\n",
        "\n",
        "# Create a new VectorAssembler to combine the encoded categorical features and scaled numerical features\n",
        "# The output column from the OneHotEncoders will be col_indexed_encoded for each categorical col\n",
        "encoded_categorical_output_cols = [col + \"_indexed_encoded\" for col in categorical_features]\n",
        "\n",
        "# This assembler will take the output of the encoders and the scaler\n",
        "final_assembler_inputs = encoded_categorical_output_cols + [\"scaled_numerical_features\"]\n",
        "final_assembler = VectorAssembler(inputCols=final_assembler_inputs, outputCol=\"features\", handleInvalid=\"skip\") # The final feature vector will be named \"features\"\n",
        "\n",
        "# Create the new pipeline with all steps: Indexing -> Encoding -> Assemble Numerical -> Scale Numerical -> Final Assemble\n",
        "full_pipeline = Pipeline(stages=indexers + encoders + [assembler_for_scaling, scaler, final_assembler])\n",
        "\n",
        "# Fit and transform the data using the full pipeline\n",
        "# The result will be a DataFrame with all intermediate columns and the final 'features' vector column\n",
        "df_transformed = full_pipeline.fit(cleaned_df).transform(cleaned_df)\n",
        "\n",
        "# Select only the final feature vector column and the target variable ('high_tip')\n",
        "final_df = df_transformed.select(\"features\", \"high_tip\")\n",
        "\n",
        "# Show the resulting DataFrame with only the feature vector and target\n",
        "final_df.show(5)"
      ],
      "cell_type": "code",
      "metadata": {
        "colab": {
          "base_uri": "https://localhost:8080/"
        },
        "id": "c77Pr35sRtv6",
        "outputId": "e03abcb8-1a2f-4133-ada1-ce2923cd868a"
      },
      "execution_count": null,
      "outputs": [
        {
          "output_type": "stream",
          "name": "stdout",
          "text": [
            "+--------------------+--------+\n",
            "|            features|high_tip|\n",
            "+--------------------+--------+\n",
            "|(454,[27,195,271,...|       1|\n",
            "|(454,[8,195,204,4...|       1|\n",
            "|(454,[20,195,229,...|       0|\n",
            "|(454,[14,195,208,...|       1|\n",
            "|(454,[42,195,289,...|       1|\n",
            "+--------------------+--------+\n",
            "only showing top 5 rows\n",
            "\n"
          ]
        }
      ]
    },
    {
      "cell_type": "markdown",
      "source": [
        "## Train Test Split"
      ],
      "metadata": {
        "id": "E9nlrnLmSlBZ"
      }
    },
    {
      "cell_type": "code",
      "source": [
        "train_data = final_df.randomSplit([0.8, 0.2], seed=42)\n",
        "train_df = train_data[0]\n",
        "test_df = train_data[1]"
      ],
      "metadata": {
        "id": "TK13ruK3SaRe"
      },
      "execution_count": null,
      "outputs": []
    },
    {
      "cell_type": "markdown",
      "source": [
        "## Logistic Regression"
      ],
      "metadata": {
        "id": "Qz5IuGFYSm4L"
      }
    },
    {
      "cell_type": "code",
      "source": [
        "from pyspark.ml.classification import LogisticRegression\n",
        "from pyspark.ml.evaluation import BinaryClassificationEvaluator\n",
        "\n",
        "logistic_regressor = LogisticRegression(featuresCol=\"features\", labelCol=\"high_tip\", maxIter=10)\n",
        "logistic_model = logistic_regressor.fit(train_df)"
      ],
      "metadata": {
        "id": "DXK3YZDZSo-O"
      },
      "execution_count": null,
      "outputs": []
    },
    {
      "cell_type": "markdown",
      "source": [
        "## Decision Tree"
      ],
      "metadata": {
        "id": "G-igMZFOSpUd"
      }
    },
    {
      "cell_type": "code",
      "source": [
        "from pyspark.ml.classification import DecisionTreeClassifier\n",
        "\n",
        "dt_classifier = DecisionTreeClassifier(featuresCol=\"features\", labelCol=\"high_tip\", maxDepth=5)\n",
        "dt_model = dt_classifier.fit(train_df)"
      ],
      "metadata": {
        "id": "zZUHgS6_St1Q"
      },
      "execution_count": null,
      "outputs": []
    },
    {
      "cell_type": "markdown",
      "source": [
        "## Random Forests"
      ],
      "metadata": {
        "id": "Dke1k6cQSuwN"
      }
    },
    {
      "cell_type": "code",
      "source": [
        "from pyspark.ml.classification import RandomForestClassifier\n",
        "\n",
        "rf_classifier = RandomForestClassifier(featuresCol=\"features\", labelCol=\"high_tip\", numTrees=10)\n",
        "rf_model = rf_classifier.fit(train_df)"
      ],
      "metadata": {
        "id": "5dDUuGg0Swta"
      },
      "execution_count": null,
      "outputs": []
    },
    {
      "cell_type": "markdown",
      "source": [
        "# Model Evaluation and Our Findings\n",
        "\n",
        "We found that Decision Trees worked best for our data. This is likely because our data had many clear/rule based-patterns, like the definiton of a high tip as well as many categorical and discrete features (passenger data, location data etc), we also believe there may have been some non-linear relationships in the data which could have led to the increased performance of the Decision Tree. Finally it's overall a small dataset, so it makes sense for all 3 models to have close results."
      ],
      "metadata": {
        "id": "TkiZ30f9SxBf"
      }
    },
    {
      "cell_type": "code",
      "source": [
        "from pyspark.ml.evaluation import BinaryClassificationEvaluator\n",
        "\n",
        "# Make predictions on the test data for each model\n",
        "logistic_predictions = logistic_model.transform(test_df)\n",
        "dt_predictions = dt_model.transform(test_df)\n",
        "rf_predictions = rf_model.transform(test_df)\n",
        "\n",
        "# Evaluate each model using BinaryClassificationEvaluator (using AUC)\n",
        "evaluator = BinaryClassificationEvaluator(labelCol=\"high_tip\", rawPredictionCol=\"rawPrediction\", metricName=\"areaUnderROC\")\n",
        "\n",
        "logistic_accuracy = evaluator.evaluate(logistic_predictions)\n",
        "dt_accuracy = evaluator.evaluate(dt_predictions)\n",
        "rf_accuracy = evaluator.evaluate(rf_predictions)\n",
        "\n",
        "# Print the accuracies\n",
        "print(f\"Logistic Regression Accuracy (AUC): {logistic_accuracy:.4f}\")\n",
        "print(f\"Decision Tree Accuracy (AUC): {dt_accuracy:.4f}\")\n",
        "print(f\"Random Forest Accuracy (AUC): {rf_accuracy:.4f}\")\n",
        "\n",
        "# You can also compare other metrics like F1 score, precision, recall if needed\n",
        "from pyspark.ml.evaluation import MulticlassClassificationEvaluator\n",
        "\n",
        "multi_evaluator = MulticlassClassificationEvaluator(labelCol=\"high_tip\", predictionCol=\"prediction\", metricName=\"f1\")\n",
        "\n",
        "logistic_f1 = multi_evaluator.evaluate(logistic_predictions)\n",
        "dt_f1 = multi_evaluator.evaluate(dt_predictions)\n",
        "rf_f1 = multi_evaluator.evaluate(rf_predictions)\n",
        "\n",
        "print(f\"\\nLogistic Regression F1 Score: {logistic_f1:.4f}\")\n",
        "print(f\"Decision Tree F1 Score: {dt_f1:.4f}\")\n",
        "print(f\"Random Forest F1 Score: {rf_f1:.4f}\")\n"
      ],
      "metadata": {
        "colab": {
          "base_uri": "https://localhost:8080/"
        },
        "id": "Y3RzKlLRTISw",
        "outputId": "ce67f82e-1c1e-43bb-ffc1-b9d88ded7421"
      },
      "execution_count": null,
      "outputs": [
        {
          "output_type": "stream",
          "name": "stdout",
          "text": [
            "Logistic Regression Accuracy (AUC): 0.9997\n",
            "Decision Tree Accuracy (AUC): 0.9999\n",
            "Random Forest Accuracy (AUC): 0.9936\n",
            "\n",
            "Logistic Regression F1 Score: 0.9959\n",
            "Decision Tree F1 Score: 0.9977\n",
            "Random Forest F1 Score: 0.9113\n"
          ]
        }
      ]
    }
  ]
}